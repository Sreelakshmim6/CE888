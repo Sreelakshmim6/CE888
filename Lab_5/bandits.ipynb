{
  "nbformat": 4,
  "nbformat_minor": 0,
  "metadata": {
    "kernelspec": {
      "display_name": "Python 3",
      "language": "python",
      "name": "python3"
    },
    "language_info": {
      "codemirror_mode": {
        "name": "ipython",
        "version": 3
      },
      "file_extension": ".py",
      "mimetype": "text/x-python",
      "name": "python",
      "nbconvert_exporter": "python",
      "pygments_lexer": "ipython3",
      "version": "3.7.6"
    },
    "colab": {
      "name": "bandits.ipynb",
      "provenance": [],
      "include_colab_link": true
    }
  },
  "cells": [
    {
      "cell_type": "markdown",
      "metadata": {
        "id": "view-in-github",
        "colab_type": "text"
      },
      "source": [
        "<a href=\"https://colab.research.google.com/github/Sreelakshmim6/CE888/blob/main/Lab_5/bandits.ipynb\" target=\"_parent\"><img src=\"https://colab.research.google.com/assets/colab-badge.svg\" alt=\"Open In Colab\"/></a>"
      ]
    },
    {
      "cell_type": "code",
      "metadata": {
        "id": "G_ohAqyeAWh5"
      },
      "source": [
        "import numpy as np\n",
        "import matplotlib.pyplot as plt"
      ],
      "execution_count": 1,
      "outputs": []
    },
    {
      "cell_type": "code",
      "metadata": {
        "id": "NyfMa-ZzAWia"
      },
      "source": [
        "# Define our actions\n",
        "\n",
        "def action_0():\n",
        "    return np.random.choice([1, 0], p=[0.5, 0.5])\n",
        "\n",
        "def action_1():\n",
        "    return np.random.choice([1, 0], p=[0.6, 0.4])\n",
        "\n",
        "def action_2():\n",
        "    return np.random.choice([1, 0], p=[0.2, 0.8])\n",
        "\n",
        "rewards = [action_0, action_1, action_2]"
      ],
      "execution_count": 2,
      "outputs": []
    },
    {
      "cell_type": "code",
      "metadata": {
        "colab": {
          "base_uri": "https://localhost:8080/"
        },
        "id": "8OMYEfKiAWig",
        "outputId": "3d89edd5-545b-4b1d-f03d-169e3d596b69"
      },
      "source": [
        "for i in range(10):\n",
        "    print('Pull %d (action_0): reward=%d' % (i, rewards[0]()))"
      ],
      "execution_count": 3,
      "outputs": [
        {
          "output_type": "stream",
          "text": [
            "Pull 0 (action_0): reward=0\n",
            "Pull 1 (action_0): reward=0\n",
            "Pull 2 (action_0): reward=0\n",
            "Pull 3 (action_0): reward=1\n",
            "Pull 4 (action_0): reward=1\n",
            "Pull 5 (action_0): reward=1\n",
            "Pull 6 (action_0): reward=1\n",
            "Pull 7 (action_0): reward=1\n",
            "Pull 8 (action_0): reward=1\n",
            "Pull 9 (action_0): reward=1\n"
          ],
          "name": "stdout"
        }
      ]
    },
    {
      "cell_type": "code",
      "metadata": {
        "colab": {
          "base_uri": "https://localhost:8080/"
        },
        "id": "VVjefuf9AWip",
        "outputId": "30f7e344-99d3-4cff-bda8-4a314dc6ba73"
      },
      "source": [
        "# Simulate action values (Q): expected reward for each action\n",
        "pulls = 100000\n",
        "\n",
        "action_values = []\n",
        "for reward in rewards:\n",
        "    value = [reward() for _ in range(pulls)]  # execute each of the actions 'pulls' times\n",
        "    action_values.append(value)\n",
        "\n",
        "for action, value in enumerate(action_values):\n",
        "    print(\"Action %d: Q(a_%d)=%.2f\" % (action, action, np.mean(value)))"
      ],
      "execution_count": 4,
      "outputs": [
        {
          "output_type": "stream",
          "text": [
            "Action 0: Q(a_0)=0.50\n",
            "Action 1: Q(a_1)=0.60\n",
            "Action 2: Q(a_2)=0.20\n"
          ],
          "name": "stdout"
        }
      ]
    },
    {
      "cell_type": "code",
      "metadata": {
        "id": "6wY2EchRAWiu"
      },
      "source": [
        "# To simulate the values (V), we need to define a policy\n",
        "# (Value is the expected reward given the policy I'm following)\n",
        "\n",
        "# Define a policy:\n",
        "def policy_random():\n",
        "    '''Returns which action to perform using equal probabilities for each action'''\n",
        "    return np.random.choice([0, 1, 2], p=[1/3, 1/3, 1/3])\n",
        "\n",
        "\n",
        "def policy_better():\n",
        "    ''' A better policy than random: we choose actions 0 and 1 more often than action 2'''\n",
        "    return np.random.choice([0, 1, 2], p=[0.4, 0.5, 0.1])\n"
      ],
      "execution_count": 5,
      "outputs": []
    },
    {
      "cell_type": "code",
      "metadata": {
        "colab": {
          "base_uri": "https://localhost:8080/"
        },
        "id": "Qn70-2BnAWiy",
        "outputId": "f4271227-8d66-461c-9865-9fe67c83980e"
      },
      "source": [
        "# Simulate Values using the random policy\n",
        "total_reward = 0\n",
        "for pull in range(pulls):\n",
        "    action = policy_random()\n",
        "    total_reward += rewards[action]()\n",
        "print(\"Total reward =\", total_reward)\n",
        "print(\"Average reward: V =\", total_reward/pulls)"
      ],
      "execution_count": 6,
      "outputs": [
        {
          "output_type": "stream",
          "text": [
            "Total reward = 43282\n",
            "Average reward: V = 0.43282\n"
          ],
          "name": "stdout"
        }
      ]
    },
    {
      "cell_type": "code",
      "metadata": {
        "colab": {
          "base_uri": "https://localhost:8080/"
        },
        "id": "_-6gLUeWAWi3",
        "outputId": "a8a62b41-1442-4d9b-b2fa-662e52d8c9af"
      },
      "source": [
        "# Simulate Values using the better policy\n",
        "total_reward = 0\n",
        "for pull in range(pulls):\n",
        "    action = policy_better()\n",
        "    total_reward += rewards[action]()\n",
        "print(\"Total reward =\", total_reward)\n",
        "print(\"Average reward: V =\", total_reward/pulls)"
      ],
      "execution_count": 7,
      "outputs": [
        {
          "output_type": "stream",
          "text": [
            "Total reward = 52085\n",
            "Average reward: V = 0.52085\n"
          ],
          "name": "stdout"
        }
      ]
    },
    {
      "cell_type": "code",
      "metadata": {
        "colab": {
          "base_uri": "https://localhost:8080/"
        },
        "id": "vML7aYcDAWi6",
        "outputId": "a731faba-a59f-407c-d18c-83f9969aecfd"
      },
      "source": [
        "# Regret of the better policy\n",
        "V_star = max([np.mean(value) for value in action_values])\n",
        "print(\"V* =\", V_star)\n",
        "\n",
        "total_regret = 0\n",
        "for pull in range(pulls):\n",
        "    total_regret += (V_star - rewards[policy_better()]())\n",
        "print('Regret: I_t = %.2f' % (total_regret/pulls))"
      ],
      "execution_count": 8,
      "outputs": [
        {
          "output_type": "stream",
          "text": [
            "V* = 0.59852\n",
            "Regret: I_t = 0.08\n"
          ],
          "name": "stdout"
        }
      ]
    },
    {
      "cell_type": "code",
      "metadata": {
        "id": "pkhEOOz8AWi_"
      },
      "source": [
        "# Some bandit policies to explore:\n",
        "\n",
        "def policy_greedy(action_values):\n",
        "    '''Always returns the action for which the payoff is highest'''\n",
        "    best_action = np.argmax([np.mean(value) for value in action_values])\n",
        "    return best_action\n",
        "\n",
        "\n",
        "def policy_e_greedy(action_values, epsilon=0.05):\n",
        "    '''We explore with epsilon probability, and choose the best action the rest of the time'''\n",
        "    explore = np.random.choice([1, 0], p=[epsilon, 1-epsilon])\n",
        "    if explore:\n",
        "        # Random action\n",
        "        return policy_random()\n",
        "    else:\n",
        "        # Choose best action\n",
        "        return policy_greedy(action_values)\n",
        "\n"
      ],
      "execution_count": 9,
      "outputs": []
    },
    {
      "cell_type": "code",
      "metadata": {
        "id": "wyGqo1sTAWjC"
      },
      "source": [
        "# Implementing the decaying epsilon-greedy properly requires a class definition so we can store the epsilon values\n",
        "class DecayingEGreedy:\n",
        "    \n",
        "    def __init__(self, epsilon, decay=0.99, lower_bound=0):\n",
        "        self.epsilon = epsilon\n",
        "        self.decay = decay\n",
        "        self.lower_bound = lower_bound\n",
        "        \n",
        "    def policy(self, action_values):\n",
        "        if self.lower_bound > 0 and self.epsilon > self.lower_bound:\n",
        "            self.epsilon *= self.decay  # update epsilon\n",
        "        explore = np.random.choice([1, 0], p=[self.epsilon, 1-self.epsilon])  # explore vs exploit decision\n",
        "        if explore:\n",
        "            # Random action\n",
        "            return policy_random()\n",
        "        else:\n",
        "            # Choose best action\n",
        "            return policy_greedy(action_values)\n"
      ],
      "execution_count": 10,
      "outputs": []
    },
    {
      "cell_type": "code",
      "metadata": {
        "scrolled": true,
        "id": "fT5ZzbfZAWjE",
        "colab": {
          "base_uri": "https://localhost:8080/"
        },
        "outputId": "50ce5063-f3ec-4fa0-f949-f78b56f81b39"
      },
      "source": [
        "# Let's test the decaying epsilon-greedy approach\n",
        "agent = DecayingEGreedy(epsilon=0.1, decay=0.99, lower_bound=0.03)\n",
        "\n",
        "# Full problem:\n",
        "action_values = [[], [], []] # initialise values\n",
        "rewards_decaying_e_greedy = []\n",
        "total_reward = 0\n",
        "print('Number of pulls\\t\\tTotal reward\\t\\tV')\n",
        "for pull in range(pulls):\n",
        "    action = agent.policy(action_values)  # choose action according to policy\n",
        "    reward = rewards[action]()  # get reward\n",
        "    action_values[action].append(reward)  # update action_values so we make better decisions down the line\n",
        "    total_reward += reward\n",
        "    if (pull+1) % 1000 == 0:\n",
        "        print('%d\\t\\t\\t%d\\t\\t\\t%.3f' % (pull+1, total_reward, total_reward/pull))\n",
        "        rewards_decaying_e_greedy.append(total_reward/pull)\n",
        "\n"
      ],
      "execution_count": 11,
      "outputs": [
        {
          "output_type": "stream",
          "text": [
            "Number of pulls\t\tTotal reward\t\tV\n",
            "1000\t\t\t593\t\t\t0.594\n"
          ],
          "name": "stdout"
        },
        {
          "output_type": "stream",
          "text": [
            "/usr/local/lib/python3.7/dist-packages/numpy/core/fromnumeric.py:3373: RuntimeWarning: Mean of empty slice.\n",
            "  out=out, **kwargs)\n",
            "/usr/local/lib/python3.7/dist-packages/numpy/core/_methods.py:170: RuntimeWarning: invalid value encountered in double_scalars\n",
            "  ret = ret.dtype.type(ret / rcount)\n"
          ],
          "name": "stderr"
        },
        {
          "output_type": "stream",
          "text": [
            "2000\t\t\t1191\t\t\t0.596\n",
            "3000\t\t\t1758\t\t\t0.586\n",
            "4000\t\t\t2337\t\t\t0.584\n",
            "5000\t\t\t2939\t\t\t0.588\n",
            "6000\t\t\t3533\t\t\t0.589\n",
            "7000\t\t\t4140\t\t\t0.592\n",
            "8000\t\t\t4744\t\t\t0.593\n",
            "9000\t\t\t5340\t\t\t0.593\n",
            "10000\t\t\t5938\t\t\t0.594\n",
            "11000\t\t\t6560\t\t\t0.596\n",
            "12000\t\t\t7132\t\t\t0.594\n",
            "13000\t\t\t7707\t\t\t0.593\n",
            "14000\t\t\t8286\t\t\t0.592\n",
            "15000\t\t\t8897\t\t\t0.593\n",
            "16000\t\t\t9484\t\t\t0.593\n",
            "17000\t\t\t10084\t\t\t0.593\n",
            "18000\t\t\t10670\t\t\t0.593\n",
            "19000\t\t\t11269\t\t\t0.593\n",
            "20000\t\t\t11891\t\t\t0.595\n",
            "21000\t\t\t12481\t\t\t0.594\n",
            "22000\t\t\t13084\t\t\t0.595\n",
            "23000\t\t\t13671\t\t\t0.594\n",
            "24000\t\t\t14275\t\t\t0.595\n",
            "25000\t\t\t14848\t\t\t0.594\n",
            "26000\t\t\t15473\t\t\t0.595\n",
            "27000\t\t\t16064\t\t\t0.595\n",
            "28000\t\t\t16678\t\t\t0.596\n",
            "29000\t\t\t17248\t\t\t0.595\n",
            "30000\t\t\t17838\t\t\t0.595\n",
            "31000\t\t\t18445\t\t\t0.595\n",
            "32000\t\t\t19053\t\t\t0.595\n",
            "33000\t\t\t19661\t\t\t0.596\n",
            "34000\t\t\t20252\t\t\t0.596\n",
            "35000\t\t\t20853\t\t\t0.596\n",
            "36000\t\t\t21433\t\t\t0.595\n",
            "37000\t\t\t22027\t\t\t0.595\n",
            "38000\t\t\t22605\t\t\t0.595\n",
            "39000\t\t\t23202\t\t\t0.595\n",
            "40000\t\t\t23786\t\t\t0.595\n",
            "41000\t\t\t24380\t\t\t0.595\n",
            "42000\t\t\t24951\t\t\t0.594\n",
            "43000\t\t\t25552\t\t\t0.594\n",
            "44000\t\t\t26157\t\t\t0.594\n",
            "45000\t\t\t26745\t\t\t0.594\n",
            "46000\t\t\t27330\t\t\t0.594\n",
            "47000\t\t\t27923\t\t\t0.594\n",
            "48000\t\t\t28511\t\t\t0.594\n",
            "49000\t\t\t29135\t\t\t0.595\n",
            "50000\t\t\t29719\t\t\t0.594\n",
            "51000\t\t\t30309\t\t\t0.594\n",
            "52000\t\t\t30906\t\t\t0.594\n",
            "53000\t\t\t31491\t\t\t0.594\n",
            "54000\t\t\t32085\t\t\t0.594\n",
            "55000\t\t\t32690\t\t\t0.594\n",
            "56000\t\t\t33292\t\t\t0.595\n",
            "57000\t\t\t33881\t\t\t0.594\n",
            "58000\t\t\t34493\t\t\t0.595\n",
            "59000\t\t\t35104\t\t\t0.595\n",
            "60000\t\t\t35714\t\t\t0.595\n",
            "61000\t\t\t36313\t\t\t0.595\n",
            "62000\t\t\t36901\t\t\t0.595\n",
            "63000\t\t\t37464\t\t\t0.595\n",
            "64000\t\t\t38028\t\t\t0.594\n",
            "65000\t\t\t38612\t\t\t0.594\n",
            "66000\t\t\t39197\t\t\t0.594\n",
            "67000\t\t\t39812\t\t\t0.594\n",
            "68000\t\t\t40406\t\t\t0.594\n",
            "69000\t\t\t41007\t\t\t0.594\n",
            "70000\t\t\t41595\t\t\t0.594\n",
            "71000\t\t\t42208\t\t\t0.594\n",
            "72000\t\t\t42796\t\t\t0.594\n",
            "73000\t\t\t43359\t\t\t0.594\n",
            "74000\t\t\t43955\t\t\t0.594\n",
            "75000\t\t\t44516\t\t\t0.594\n",
            "76000\t\t\t45101\t\t\t0.593\n",
            "77000\t\t\t45708\t\t\t0.594\n",
            "78000\t\t\t46302\t\t\t0.594\n",
            "79000\t\t\t46884\t\t\t0.593\n",
            "80000\t\t\t47481\t\t\t0.594\n",
            "81000\t\t\t48039\t\t\t0.593\n",
            "82000\t\t\t48649\t\t\t0.593\n",
            "83000\t\t\t49242\t\t\t0.593\n",
            "84000\t\t\t49849\t\t\t0.593\n",
            "85000\t\t\t50454\t\t\t0.594\n",
            "86000\t\t\t51063\t\t\t0.594\n",
            "87000\t\t\t51659\t\t\t0.594\n",
            "88000\t\t\t52255\t\t\t0.594\n",
            "89000\t\t\t52858\t\t\t0.594\n",
            "90000\t\t\t53463\t\t\t0.594\n",
            "91000\t\t\t54052\t\t\t0.594\n",
            "92000\t\t\t54653\t\t\t0.594\n",
            "93000\t\t\t55250\t\t\t0.594\n",
            "94000\t\t\t55856\t\t\t0.594\n",
            "95000\t\t\t56461\t\t\t0.594\n",
            "96000\t\t\t57038\t\t\t0.594\n",
            "97000\t\t\t57605\t\t\t0.594\n",
            "98000\t\t\t58194\t\t\t0.594\n",
            "99000\t\t\t58809\t\t\t0.594\n",
            "100000\t\t\t59408\t\t\t0.594\n"
          ],
          "name": "stdout"
        }
      ]
    },
    {
      "cell_type": "code",
      "metadata": {
        "id": "uLHnVY5AAWjL",
        "colab": {
          "base_uri": "https://localhost:8080/",
          "height": 297
        },
        "outputId": "937760cd-bd95-488f-e79a-218aa03618ef"
      },
      "source": [
        "plt.plot(np.arange(1000, pulls+1, step=1000), rewards_decaying_e_greedy)\n",
        "plt.xlabel(\"Iterations\")\n",
        "plt.ylabel(\"Average reward (V)\")\n",
        "# The average reward is 0.594, which is very close to V* (0.6)!"
      ],
      "execution_count": 12,
      "outputs": [
        {
          "output_type": "execute_result",
          "data": {
            "text/plain": [
              "Text(0, 0.5, 'Average reward (V)')"
            ]
          },
          "metadata": {
            "tags": []
          },
          "execution_count": 12
        },
        {
          "output_type": "display_data",
          "data": {
            "image/png": "[encoded data removed]",
            "text/plain": [
              "<Figure size 432x288 with 1 Axes>"
            ]
          },
          "metadata": {
            "tags": [],
            "needs_background": "light"
          }
        }
      ]
    },
    {
      "cell_type": "code",
      "metadata": {
        "id": "KeR_XuqUAWjO"
      },
      "source": [
        "# Implementing the decaying epsilon-greedy properly requires a class definition so we can store the epsilon values\n",
        "class UCB:\n",
        "    \n",
        "    def __init__(self, C=0.5, n_arms=3):\n",
        "        self.C = C\n",
        "        self.pulls = 0\n",
        "        self.counts = np.asarray([0] * n_arms)\n",
        "        \n",
        "    def update_counts(self, arm):\n",
        "        self.pulls += 1\n",
        "        self.counts[arm] += 1\n",
        "        \n",
        "    def policy(self, action_values):\n",
        "        action_values = np.asarray([np.mean(value) for value in action_values])\n",
        "        uncertainty = np.sqrt(np.log(self.pulls) / self.counts)\n",
        "        ucb = action_values + self.C * uncertainty\n",
        "        action = np.argmax(ucb)\n",
        "        self.update_counts(action)\n",
        "        return action\n"
      ],
      "execution_count": 13,
      "outputs": []
    },
    {
      "cell_type": "code",
      "metadata": {
        "scrolled": true,
        "id": "eRI6_3tCAWjP",
        "colab": {
          "base_uri": "https://localhost:8080/"
        },
        "outputId": "a70d10d9-76b3-4a1b-c8e7-17fdf90df26f"
      },
      "source": [
        "# Let's test the decaying epsilon-greedy approach\n",
        "agent = UCB(C=0.5)\n",
        "\n",
        "# Full problem:\n",
        "action_values = [[], [], []] # initialise values\n",
        "total_reward = 0 # reset reward\n",
        "rewards_ucb = []\n",
        "print('Number of pulls\\t\\tTotal reward\\t\\tV')\n",
        "for pull in range(pulls):\n",
        "    action = agent.policy(action_values)  # choose action according to policy\n",
        "    reward = rewards[action]()  # get reward\n",
        "    action_values[action].append(reward)  # update action_values so we make better decisions down the line\n",
        "    total_reward += reward\n",
        "    if (pull+1) % 1000 == 0:\n",
        "        print('%d\\t\\t\\t%d\\t\\t\\t%.3f' % (pull+1, total_reward, total_reward/pull))\n",
        "        rewards_ucb.append(total_reward/pull)\n"
      ],
      "execution_count": null,
      "outputs": [
        {
          "output_type": "stream",
          "text": [
            "Number of pulls\t\tTotal reward\t\tV\n",
            "1000\t\t\t556\t\t\t0.557\n"
          ],
          "name": "stdout"
        },
        {
          "output_type": "stream",
          "text": [
            "/usr/local/lib/python3.7/dist-packages/numpy/core/fromnumeric.py:3373: RuntimeWarning: Mean of empty slice.\n",
            "  out=out, **kwargs)\n",
            "/usr/local/lib/python3.7/dist-packages/numpy/core/_methods.py:170: RuntimeWarning: invalid value encountered in double_scalars\n",
            "  ret = ret.dtype.type(ret / rcount)\n",
            "/usr/local/lib/python3.7/dist-packages/ipykernel_launcher.py:15: RuntimeWarning: divide by zero encountered in log\n",
            "  from ipykernel import kernelapp as app\n",
            "/usr/local/lib/python3.7/dist-packages/ipykernel_launcher.py:15: RuntimeWarning: invalid value encountered in sqrt\n",
            "  from ipykernel import kernelapp as app\n",
            "/usr/local/lib/python3.7/dist-packages/ipykernel_launcher.py:15: RuntimeWarning: invalid value encountered in true_divide\n",
            "  from ipykernel import kernelapp as app\n",
            "/usr/local/lib/python3.7/dist-packages/ipykernel_launcher.py:15: RuntimeWarning: divide by zero encountered in true_divide\n",
            "  from ipykernel import kernelapp as app\n"
          ],
          "name": "stderr"
        },
        {
          "output_type": "stream",
          "text": [
            "2000\t\t\t1170\t\t\t0.585\n",
            "3000\t\t\t1780\t\t\t0.594\n",
            "4000\t\t\t2389\t\t\t0.597\n",
            "5000\t\t\t3010\t\t\t0.602\n",
            "6000\t\t\t3600\t\t\t0.600\n",
            "7000\t\t\t4184\t\t\t0.598\n",
            "8000\t\t\t4779\t\t\t0.597\n",
            "9000\t\t\t5392\t\t\t0.599\n",
            "10000\t\t\t5998\t\t\t0.600\n",
            "11000\t\t\t6586\t\t\t0.599\n",
            "12000\t\t\t7148\t\t\t0.596\n",
            "13000\t\t\t7741\t\t\t0.596\n",
            "14000\t\t\t8350\t\t\t0.596\n",
            "15000\t\t\t8946\t\t\t0.596\n",
            "16000\t\t\t9552\t\t\t0.597\n",
            "17000\t\t\t10132\t\t\t0.596\n",
            "18000\t\t\t10744\t\t\t0.597\n",
            "19000\t\t\t11369\t\t\t0.598\n",
            "20000\t\t\t11984\t\t\t0.599\n",
            "21000\t\t\t12583\t\t\t0.599\n",
            "22000\t\t\t13186\t\t\t0.599\n",
            "23000\t\t\t13773\t\t\t0.599\n",
            "24000\t\t\t14348\t\t\t0.598\n",
            "25000\t\t\t14938\t\t\t0.598\n",
            "26000\t\t\t15535\t\t\t0.598\n",
            "27000\t\t\t16131\t\t\t0.597\n",
            "28000\t\t\t16700\t\t\t0.596\n",
            "29000\t\t\t17295\t\t\t0.596\n",
            "30000\t\t\t17918\t\t\t0.597\n",
            "31000\t\t\t18537\t\t\t0.598\n",
            "32000\t\t\t19162\t\t\t0.599\n",
            "33000\t\t\t19780\t\t\t0.599\n",
            "34000\t\t\t20368\t\t\t0.599\n",
            "35000\t\t\t20984\t\t\t0.600\n",
            "36000\t\t\t21614\t\t\t0.600\n",
            "37000\t\t\t22223\t\t\t0.601\n",
            "38000\t\t\t22818\t\t\t0.600\n",
            "39000\t\t\t23423\t\t\t0.601\n",
            "40000\t\t\t24018\t\t\t0.600\n",
            "41000\t\t\t24584\t\t\t0.600\n",
            "42000\t\t\t25161\t\t\t0.599\n",
            "43000\t\t\t25761\t\t\t0.599\n",
            "44000\t\t\t26365\t\t\t0.599\n",
            "45000\t\t\t26944\t\t\t0.599\n",
            "46000\t\t\t27543\t\t\t0.599\n",
            "47000\t\t\t28151\t\t\t0.599\n",
            "48000\t\t\t28748\t\t\t0.599\n",
            "49000\t\t\t29357\t\t\t0.599\n",
            "50000\t\t\t29972\t\t\t0.599\n",
            "51000\t\t\t30568\t\t\t0.599\n",
            "52000\t\t\t31159\t\t\t0.599\n",
            "53000\t\t\t31749\t\t\t0.599\n",
            "54000\t\t\t32347\t\t\t0.599\n",
            "55000\t\t\t32943\t\t\t0.599\n",
            "56000\t\t\t33544\t\t\t0.599\n",
            "57000\t\t\t34135\t\t\t0.599\n",
            "58000\t\t\t34746\t\t\t0.599\n",
            "59000\t\t\t35353\t\t\t0.599\n",
            "60000\t\t\t35964\t\t\t0.599\n",
            "61000\t\t\t36547\t\t\t0.599\n",
            "62000\t\t\t37123\t\t\t0.599\n",
            "63000\t\t\t37736\t\t\t0.599\n",
            "64000\t\t\t38365\t\t\t0.599\n",
            "65000\t\t\t38976\t\t\t0.600\n",
            "66000\t\t\t39590\t\t\t0.600\n",
            "67000\t\t\t40190\t\t\t0.600\n",
            "68000\t\t\t40781\t\t\t0.600\n",
            "69000\t\t\t41396\t\t\t0.600\n",
            "70000\t\t\t41985\t\t\t0.600\n",
            "71000\t\t\t42583\t\t\t0.600\n",
            "72000\t\t\t43174\t\t\t0.600\n",
            "73000\t\t\t43769\t\t\t0.600\n",
            "74000\t\t\t44397\t\t\t0.600\n",
            "75000\t\t\t44997\t\t\t0.600\n",
            "76000\t\t\t45608\t\t\t0.600\n",
            "77000\t\t\t46208\t\t\t0.600\n",
            "78000\t\t\t46809\t\t\t0.600\n",
            "79000\t\t\t47424\t\t\t0.600\n",
            "80000\t\t\t48012\t\t\t0.600\n",
            "81000\t\t\t48641\t\t\t0.601\n",
            "82000\t\t\t49232\t\t\t0.600\n",
            "83000\t\t\t49841\t\t\t0.601\n",
            "84000\t\t\t50433\t\t\t0.600\n",
            "85000\t\t\t51033\t\t\t0.600\n",
            "86000\t\t\t51652\t\t\t0.601\n"
          ],
          "name": "stdout"
        }
      ]
    },
    {
      "cell_type": "code",
      "metadata": {
        "id": "TT8pNLSlAWjR"
      },
      "source": [
        "plt.plot(np.arange(1000, pulls+1, step=1000), rewards_ucb)\n",
        "plt.xlabel(\"Iterations\")\n",
        "plt.ylabel(\"Average reward (V)\")"
      ],
      "execution_count": null,
      "outputs": []
    },
    {
      "cell_type": "code",
      "metadata": {
        "id": "zgfnlMU6AWjT"
      },
      "source": [
        ""
      ],
      "execution_count": null,
      "outputs": []
    }
  ]
}