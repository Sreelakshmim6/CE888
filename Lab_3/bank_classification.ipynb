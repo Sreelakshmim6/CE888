{
  "nbformat": 4,
  "nbformat_minor": 0,
  "metadata": {
    "colab": {
      "name": "bank_classification.ipynb",
      "provenance": [],
      "authorship_tag": "ABX9TyM9CXU1xuYUvhoE+PQI50/S",
      "include_colab_link": true
    },
    "kernelspec": {
      "name": "python3",
      "display_name": "Python 3"
    }
  },
  "cells": [
    {
      "cell_type": "markdown",
      "metadata": {
        "id": "view-in-github",
        "colab_type": "text"
      },
      "source": [
        "<a href=\"https://colab.research.google.com/github/Sreelakshmim6/CE888/blob/main/Lab_3/bank_classification.ipynb\" target=\"_parent\"><img src=\"https://colab.research.google.com/assets/colab-badge.svg\" alt=\"Open In Colab\"/></a>"
      ]
    },
    {
      "cell_type": "code",
      "metadata": {
        "id": "feawouNW1-ef"
      },
      "source": [
        "%matplotlib inline\r\n",
        "import matplotlib\r\n",
        "import numpy as np\r\n",
        "import matplotlib.pyplot as plt\r\n",
        "import pandas as pd\r\n",
        "import seaborn as sns\r\n",
        "import itertools\r\n",
        "import sklearn\r\n",
        "from sklearn.tree import DecisionTreeRegressor\r\n",
        "from sklearn.ensemble import RandomForestClassifier, ExtraTreesClassifier\r\n",
        "from sklearn.model_selection import cross_val_score\r\n",
        "from sklearn.metrics import mean_squared_error as mse\r\n",
        "from sklearn.metrics import mean_absolute_error as mae\r\n",
        "from sklearn.metrics import accuracy_score as acc\r\n",
        "from sklearn.metrics import make_scorer, confusion_matrix\r\n",
        "from sklearn.dummy import DummyRegressor, DummyClassifier\r\n",
        "from sklearn.preprocessing import LabelEncoder\r\n"
      ],
      "execution_count": 1,
      "outputs": []
    },
    {
      "cell_type": "code",
      "metadata": {
        "colab": {
          "base_uri": "https://localhost:8080/",
          "height": 215
        },
        "id": "IUFHznXj2Y81",
        "outputId": "7ae5d2df-e97c-4fc8-aaf2-de2dd72f3270"
      },
      "source": [
        "df = pd.read_csv(\"https://raw.githubusercontent.com/albanda/CE888/master/lab3/bank-additional-full.csv\", delimiter = \";\")\r\n",
        "df.head()"
      ],
      "execution_count": 2,
      "outputs": [
        {
          "output_type": "execute_result",
          "data": {
            "text/html": [
              "<div>\n",
              "<style scoped>\n",
              "    .dataframe tbody tr th:only-of-type {\n",
              "        vertical-align: middle;\n",
              "    }\n",
              "\n",
              "    .dataframe tbody tr th {\n",
              "        vertical-align: top;\n",
              "    }\n",
              "\n",
              "    .dataframe thead th {\n",
              "        text-align: right;\n",
              "    }\n",
              "</style>\n",
              "<table border=\"1\" class=\"dataframe\">\n",
              "  <thead>\n",
              "    <tr style=\"text-align: right;\">\n",
              "      <th></th>\n",
              "      <th>age</th>\n",
              "      <th>job</th>\n",
              "      <th>marital</th>\n",
              "      <th>education</th>\n",
              "      <th>default</th>\n",
              "      <th>housing</th>\n",
              "      <th>loan</th>\n",
              "      <th>contact</th>\n",
              "      <th>month</th>\n",
              "      <th>day_of_week</th>\n",
              "      <th>duration</th>\n",
              "      <th>campaign</th>\n",
              "      <th>pdays</th>\n",
              "      <th>previous</th>\n",
              "      <th>poutcome</th>\n",
              "      <th>emp.var.rate</th>\n",
              "      <th>cons.price.idx</th>\n",
              "      <th>cons.conf.idx</th>\n",
              "      <th>euribor3m</th>\n",
              "      <th>nr.employed</th>\n",
              "      <th>y</th>\n",
              "    </tr>\n",
              "  </thead>\n",
              "  <tbody>\n",
              "    <tr>\n",
              "      <th>0</th>\n",
              "      <td>56</td>\n",
              "      <td>housemaid</td>\n",
              "      <td>married</td>\n",
              "      <td>basic.4y</td>\n",
              "      <td>no</td>\n",
              "      <td>no</td>\n",
              "      <td>no</td>\n",
              "      <td>telephone</td>\n",
              "      <td>may</td>\n",
              "      <td>mon</td>\n",
              "      <td>261</td>\n",
              "      <td>1</td>\n",
              "      <td>999</td>\n",
              "      <td>0</td>\n",
              "      <td>nonexistent</td>\n",
              "      <td>1.1</td>\n",
              "      <td>93.994</td>\n",
              "      <td>-36.4</td>\n",
              "      <td>4.857</td>\n",
              "      <td>5191.0</td>\n",
              "      <td>no</td>\n",
              "    </tr>\n",
              "    <tr>\n",
              "      <th>1</th>\n",
              "      <td>57</td>\n",
              "      <td>services</td>\n",
              "      <td>married</td>\n",
              "      <td>high.school</td>\n",
              "      <td>unknown</td>\n",
              "      <td>no</td>\n",
              "      <td>no</td>\n",
              "      <td>telephone</td>\n",
              "      <td>may</td>\n",
              "      <td>mon</td>\n",
              "      <td>149</td>\n",
              "      <td>1</td>\n",
              "      <td>999</td>\n",
              "      <td>0</td>\n",
              "      <td>nonexistent</td>\n",
              "      <td>1.1</td>\n",
              "      <td>93.994</td>\n",
              "      <td>-36.4</td>\n",
              "      <td>4.857</td>\n",
              "      <td>5191.0</td>\n",
              "      <td>no</td>\n",
              "    </tr>\n",
              "    <tr>\n",
              "      <th>2</th>\n",
              "      <td>37</td>\n",
              "      <td>services</td>\n",
              "      <td>married</td>\n",
              "      <td>high.school</td>\n",
              "      <td>no</td>\n",
              "      <td>yes</td>\n",
              "      <td>no</td>\n",
              "      <td>telephone</td>\n",
              "      <td>may</td>\n",
              "      <td>mon</td>\n",
              "      <td>226</td>\n",
              "      <td>1</td>\n",
              "      <td>999</td>\n",
              "      <td>0</td>\n",
              "      <td>nonexistent</td>\n",
              "      <td>1.1</td>\n",
              "      <td>93.994</td>\n",
              "      <td>-36.4</td>\n",
              "      <td>4.857</td>\n",
              "      <td>5191.0</td>\n",
              "      <td>no</td>\n",
              "    </tr>\n",
              "    <tr>\n",
              "      <th>3</th>\n",
              "      <td>40</td>\n",
              "      <td>admin.</td>\n",
              "      <td>married</td>\n",
              "      <td>basic.6y</td>\n",
              "      <td>no</td>\n",
              "      <td>no</td>\n",
              "      <td>no</td>\n",
              "      <td>telephone</td>\n",
              "      <td>may</td>\n",
              "      <td>mon</td>\n",
              "      <td>151</td>\n",
              "      <td>1</td>\n",
              "      <td>999</td>\n",
              "      <td>0</td>\n",
              "      <td>nonexistent</td>\n",
              "      <td>1.1</td>\n",
              "      <td>93.994</td>\n",
              "      <td>-36.4</td>\n",
              "      <td>4.857</td>\n",
              "      <td>5191.0</td>\n",
              "      <td>no</td>\n",
              "    </tr>\n",
              "    <tr>\n",
              "      <th>4</th>\n",
              "      <td>56</td>\n",
              "      <td>services</td>\n",
              "      <td>married</td>\n",
              "      <td>high.school</td>\n",
              "      <td>no</td>\n",
              "      <td>no</td>\n",
              "      <td>yes</td>\n",
              "      <td>telephone</td>\n",
              "      <td>may</td>\n",
              "      <td>mon</td>\n",
              "      <td>307</td>\n",
              "      <td>1</td>\n",
              "      <td>999</td>\n",
              "      <td>0</td>\n",
              "      <td>nonexistent</td>\n",
              "      <td>1.1</td>\n",
              "      <td>93.994</td>\n",
              "      <td>-36.4</td>\n",
              "      <td>4.857</td>\n",
              "      <td>5191.0</td>\n",
              "      <td>no</td>\n",
              "    </tr>\n",
              "  </tbody>\n",
              "</table>\n",
              "</div>"
            ],
            "text/plain": [
              "   age        job  marital  ... euribor3m nr.employed   y\n",
              "0   56  housemaid  married  ...     4.857      5191.0  no\n",
              "1   57   services  married  ...     4.857      5191.0  no\n",
              "2   37   services  married  ...     4.857      5191.0  no\n",
              "3   40     admin.  married  ...     4.857      5191.0  no\n",
              "4   56   services  married  ...     4.857      5191.0  no\n",
              "\n",
              "[5 rows x 21 columns]"
            ]
          },
          "metadata": {
            "tags": []
          },
          "execution_count": 2
        }
      ]
    },
    {
      "cell_type": "code",
      "metadata": {
        "colab": {
          "base_uri": "https://localhost:8080/"
        },
        "id": "RyKEAzaA3DgY",
        "outputId": "b76a5e9e-166e-4d36-f051-c1c23e6780d2"
      },
      "source": [
        "df_original=df.copy()\r\n",
        "df.dtypes"
      ],
      "execution_count": 3,
      "outputs": [
        {
          "output_type": "execute_result",
          "data": {
            "text/plain": [
              "age                 int64\n",
              "job                object\n",
              "marital            object\n",
              "education          object\n",
              "default            object\n",
              "housing            object\n",
              "loan               object\n",
              "contact            object\n",
              "month              object\n",
              "day_of_week        object\n",
              "duration            int64\n",
              "campaign            int64\n",
              "pdays               int64\n",
              "previous            int64\n",
              "poutcome           object\n",
              "emp.var.rate      float64\n",
              "cons.price.idx    float64\n",
              "cons.conf.idx     float64\n",
              "euribor3m         float64\n",
              "nr.employed       float64\n",
              "y                  object\n",
              "dtype: object"
            ]
          },
          "metadata": {
            "tags": []
          },
          "execution_count": 3
        }
      ]
    },
    {
      "cell_type": "code",
      "metadata": {
        "colab": {
          "base_uri": "https://localhost:8080/",
          "height": 215
        },
        "id": "UAFHe4x83DuC",
        "outputId": "d6930e78-8334-41f3-da89-f66e2793d53a"
      },
      "source": [
        "# convert a string variable to a categorical one\r\n",
        "df[[\"y\"]] = df[[\"y\"]].apply(LabelEncoder().fit_transform)\r\n",
        "#df[[\"poutcome\"]] = df[[\"poutcome\"]].apply(LabelEncoder().fit_transform)\r\n",
        "#df[[\"day_of_week\"]] = df[[\"day_of_week\"]].apply(LabelEncoder().fit_transform)\r\n",
        "\r\n",
        "df.head()"
      ],
      "execution_count": 4,
      "outputs": [
        {
          "output_type": "execute_result",
          "data": {
            "text/html": [
              "<div>\n",
              "<style scoped>\n",
              "    .dataframe tbody tr th:only-of-type {\n",
              "        vertical-align: middle;\n",
              "    }\n",
              "\n",
              "    .dataframe tbody tr th {\n",
              "        vertical-align: top;\n",
              "    }\n",
              "\n",
              "    .dataframe thead th {\n",
              "        text-align: right;\n",
              "    }\n",
              "</style>\n",
              "<table border=\"1\" class=\"dataframe\">\n",
              "  <thead>\n",
              "    <tr style=\"text-align: right;\">\n",
              "      <th></th>\n",
              "      <th>age</th>\n",
              "      <th>job</th>\n",
              "      <th>marital</th>\n",
              "      <th>education</th>\n",
              "      <th>default</th>\n",
              "      <th>housing</th>\n",
              "      <th>loan</th>\n",
              "      <th>contact</th>\n",
              "      <th>month</th>\n",
              "      <th>day_of_week</th>\n",
              "      <th>duration</th>\n",
              "      <th>campaign</th>\n",
              "      <th>pdays</th>\n",
              "      <th>previous</th>\n",
              "      <th>poutcome</th>\n",
              "      <th>emp.var.rate</th>\n",
              "      <th>cons.price.idx</th>\n",
              "      <th>cons.conf.idx</th>\n",
              "      <th>euribor3m</th>\n",
              "      <th>nr.employed</th>\n",
              "      <th>y</th>\n",
              "    </tr>\n",
              "  </thead>\n",
              "  <tbody>\n",
              "    <tr>\n",
              "      <th>0</th>\n",
              "      <td>56</td>\n",
              "      <td>housemaid</td>\n",
              "      <td>married</td>\n",
              "      <td>basic.4y</td>\n",
              "      <td>no</td>\n",
              "      <td>no</td>\n",
              "      <td>no</td>\n",
              "      <td>telephone</td>\n",
              "      <td>may</td>\n",
              "      <td>mon</td>\n",
              "      <td>261</td>\n",
              "      <td>1</td>\n",
              "      <td>999</td>\n",
              "      <td>0</td>\n",
              "      <td>nonexistent</td>\n",
              "      <td>1.1</td>\n",
              "      <td>93.994</td>\n",
              "      <td>-36.4</td>\n",
              "      <td>4.857</td>\n",
              "      <td>5191.0</td>\n",
              "      <td>0</td>\n",
              "    </tr>\n",
              "    <tr>\n",
              "      <th>1</th>\n",
              "      <td>57</td>\n",
              "      <td>services</td>\n",
              "      <td>married</td>\n",
              "      <td>high.school</td>\n",
              "      <td>unknown</td>\n",
              "      <td>no</td>\n",
              "      <td>no</td>\n",
              "      <td>telephone</td>\n",
              "      <td>may</td>\n",
              "      <td>mon</td>\n",
              "      <td>149</td>\n",
              "      <td>1</td>\n",
              "      <td>999</td>\n",
              "      <td>0</td>\n",
              "      <td>nonexistent</td>\n",
              "      <td>1.1</td>\n",
              "      <td>93.994</td>\n",
              "      <td>-36.4</td>\n",
              "      <td>4.857</td>\n",
              "      <td>5191.0</td>\n",
              "      <td>0</td>\n",
              "    </tr>\n",
              "    <tr>\n",
              "      <th>2</th>\n",
              "      <td>37</td>\n",
              "      <td>services</td>\n",
              "      <td>married</td>\n",
              "      <td>high.school</td>\n",
              "      <td>no</td>\n",
              "      <td>yes</td>\n",
              "      <td>no</td>\n",
              "      <td>telephone</td>\n",
              "      <td>may</td>\n",
              "      <td>mon</td>\n",
              "      <td>226</td>\n",
              "      <td>1</td>\n",
              "      <td>999</td>\n",
              "      <td>0</td>\n",
              "      <td>nonexistent</td>\n",
              "      <td>1.1</td>\n",
              "      <td>93.994</td>\n",
              "      <td>-36.4</td>\n",
              "      <td>4.857</td>\n",
              "      <td>5191.0</td>\n",
              "      <td>0</td>\n",
              "    </tr>\n",
              "    <tr>\n",
              "      <th>3</th>\n",
              "      <td>40</td>\n",
              "      <td>admin.</td>\n",
              "      <td>married</td>\n",
              "      <td>basic.6y</td>\n",
              "      <td>no</td>\n",
              "      <td>no</td>\n",
              "      <td>no</td>\n",
              "      <td>telephone</td>\n",
              "      <td>may</td>\n",
              "      <td>mon</td>\n",
              "      <td>151</td>\n",
              "      <td>1</td>\n",
              "      <td>999</td>\n",
              "      <td>0</td>\n",
              "      <td>nonexistent</td>\n",
              "      <td>1.1</td>\n",
              "      <td>93.994</td>\n",
              "      <td>-36.4</td>\n",
              "      <td>4.857</td>\n",
              "      <td>5191.0</td>\n",
              "      <td>0</td>\n",
              "    </tr>\n",
              "    <tr>\n",
              "      <th>4</th>\n",
              "      <td>56</td>\n",
              "      <td>services</td>\n",
              "      <td>married</td>\n",
              "      <td>high.school</td>\n",
              "      <td>no</td>\n",
              "      <td>no</td>\n",
              "      <td>yes</td>\n",
              "      <td>telephone</td>\n",
              "      <td>may</td>\n",
              "      <td>mon</td>\n",
              "      <td>307</td>\n",
              "      <td>1</td>\n",
              "      <td>999</td>\n",
              "      <td>0</td>\n",
              "      <td>nonexistent</td>\n",
              "      <td>1.1</td>\n",
              "      <td>93.994</td>\n",
              "      <td>-36.4</td>\n",
              "      <td>4.857</td>\n",
              "      <td>5191.0</td>\n",
              "      <td>0</td>\n",
              "    </tr>\n",
              "  </tbody>\n",
              "</table>\n",
              "</div>"
            ],
            "text/plain": [
              "   age        job  marital  ... euribor3m nr.employed  y\n",
              "0   56  housemaid  married  ...     4.857      5191.0  0\n",
              "1   57   services  married  ...     4.857      5191.0  0\n",
              "2   37   services  married  ...     4.857      5191.0  0\n",
              "3   40     admin.  married  ...     4.857      5191.0  0\n",
              "4   56   services  married  ...     4.857      5191.0  0\n",
              "\n",
              "[5 rows x 21 columns]"
            ]
          },
          "metadata": {
            "tags": []
          },
          "execution_count": 4
        }
      ]
    },
    {
      "cell_type": "code",
      "metadata": {
        "colab": {
          "base_uri": "https://localhost:8080/"
        },
        "id": "CrnvzoqF4gKS",
        "outputId": "c110903d-da4e-49b2-cc50-35a2a284c5fc"
      },
      "source": [
        "df.isnull().sum()"
      ],
      "execution_count": 5,
      "outputs": [
        {
          "output_type": "execute_result",
          "data": {
            "text/plain": [
              "age               0\n",
              "job               0\n",
              "marital           0\n",
              "education         0\n",
              "default           0\n",
              "housing           0\n",
              "loan              0\n",
              "contact           0\n",
              "month             0\n",
              "day_of_week       0\n",
              "duration          0\n",
              "campaign          0\n",
              "pdays             0\n",
              "previous          0\n",
              "poutcome          0\n",
              "emp.var.rate      0\n",
              "cons.price.idx    0\n",
              "cons.conf.idx     0\n",
              "euribor3m         0\n",
              "nr.employed       0\n",
              "y                 0\n",
              "dtype: int64"
            ]
          },
          "metadata": {
            "tags": []
          },
          "execution_count": 5
        }
      ]
    },
    {
      "cell_type": "code",
      "metadata": {
        "colab": {
          "base_uri": "https://localhost:8080/"
        },
        "id": "Y2WiUzsv73iM",
        "outputId": "9754ccf7-a68e-47b6-daf9-a102a9645e36"
      },
      "source": [
        "#df['education']=df['education'].replace(['basic.4y','basic.6y','basic.9y'],['basic','basic','basic'])\r\n",
        "df.dtypes"
      ],
      "execution_count": 6,
      "outputs": [
        {
          "output_type": "execute_result",
          "data": {
            "text/plain": [
              "age                 int64\n",
              "job                object\n",
              "marital            object\n",
              "education          object\n",
              "default            object\n",
              "housing            object\n",
              "loan               object\n",
              "contact            object\n",
              "month              object\n",
              "day_of_week        object\n",
              "duration            int64\n",
              "campaign            int64\n",
              "pdays               int64\n",
              "previous            int64\n",
              "poutcome           object\n",
              "emp.var.rate      float64\n",
              "cons.price.idx    float64\n",
              "cons.conf.idx     float64\n",
              "euribor3m         float64\n",
              "nr.employed       float64\n",
              "y                   int64\n",
              "dtype: object"
            ]
          },
          "metadata": {
            "tags": []
          },
          "execution_count": 6
        }
      ]
    },
    {
      "cell_type": "code",
      "metadata": {
        "id": "86mx_WXW73jQ"
      },
      "source": [
        "dummy1=pd.get_dummies(df['job'])\r\n",
        "dummy2=pd.get_dummies(df['marital'])\r\n",
        "dummy3=pd.get_dummies(df['education'])\r\n",
        "dummy4=pd.get_dummies(df['default'])\r\n",
        "dummy5=pd.get_dummies(df['housing'])\r\n",
        "dummy6=pd.get_dummies(df['loan'])\r\n",
        "dummy7=pd.get_dummies(df['contact'])\r\n",
        "dummy8=pd.get_dummies(df['month'])\r\n",
        "dummy9=pd.get_dummies(df['day_of_week'])\r\n",
        "dummy10=pd.get_dummies(df['poutcome'])\r\n",
        "\r\n",
        "#combine dummy data with main dataframe\r\n",
        "master=pd.concat([df,dummy1,dummy2,dummy3,dummy4,dummy5,dummy6,dummy7,dummy8,dummy9,dummy10],axis=1)\r\n"
      ],
      "execution_count": 7,
      "outputs": []
    },
    {
      "cell_type": "code",
      "metadata": {
        "colab": {
          "base_uri": "https://localhost:8080/"
        },
        "id": "pPuOZDaB73n7",
        "outputId": "27f00154-c0ea-4ece-c90a-9eeaca11e3fd"
      },
      "source": [
        "len(master.columns)"
      ],
      "execution_count": 8,
      "outputs": [
        {
          "output_type": "execute_result",
          "data": {
            "text/plain": [
              "74"
            ]
          },
          "metadata": {
            "tags": []
          },
          "execution_count": 8
        }
      ]
    },
    {
      "cell_type": "code",
      "metadata": {
        "colab": {
          "base_uri": "https://localhost:8080/"
        },
        "id": "qzwrb6tp73op",
        "outputId": "b151024f-58c3-4a2b-cd42-aebc6c5a6971"
      },
      "source": [
        "x=master.drop(['job', 'marital', 'education', 'default', 'housing', 'loan','month','duration','contact','day_of_week','poutcome','y'],axis=1)\r\n",
        "x.dtypes"
      ],
      "execution_count": 9,
      "outputs": [
        {
          "output_type": "execute_result",
          "data": {
            "text/plain": [
              "age               int64\n",
              "campaign          int64\n",
              "pdays             int64\n",
              "previous          int64\n",
              "emp.var.rate    float64\n",
              "                 ...   \n",
              "tue               uint8\n",
              "wed               uint8\n",
              "failure           uint8\n",
              "nonexistent       uint8\n",
              "success           uint8\n",
              "Length: 62, dtype: object"
            ]
          },
          "metadata": {
            "tags": []
          },
          "execution_count": 9
        }
      ]
    },
    {
      "cell_type": "code",
      "metadata": {
        "id": "a4cXBxF-_hPN"
      },
      "source": [
        "y=master.y"
      ],
      "execution_count": 10,
      "outputs": []
    },
    {
      "cell_type": "code",
      "metadata": {
        "colab": {
          "base_uri": "https://localhost:8080/",
          "height": 279
        },
        "id": "5wfawKfCAUSA",
        "outputId": "e75de515-c035-475e-d59b-1220df657e0a"
      },
      "source": [
        "sns_plot = sns.histplot(y, kde=False)\r\n"
      ],
      "execution_count": 11,
      "outputs": [
        {
          "output_type": "display_data",
          "data": {
            "image/png": "[encoded data removed]",
            "text/plain": [
              "<Figure size 432x288 with 1 Axes>"
            ]
          },
          "metadata": {
            "tags": [],
            "needs_background": "light"
          }
        }
      ]
    },
    {
      "cell_type": "code",
      "metadata": {
        "colab": {
          "base_uri": "https://localhost:8080/"
        },
        "id": "qpN5kCs-UaDp",
        "outputId": "6e5d9f59-3d7a-40cf-b928-9bf4e17fd9a0"
      },
      "source": [
        "z=list(y)\r\n",
        "print(\"Count of yes :\",z.count(1),\"-\",z.count(1)*100/len(y),\"%\",\"\\nCount of no :\",z.count(0),\"-\",z.count(0)*100/len(y),\"%\")\r\n"
      ],
      "execution_count": 12,
      "outputs": [
        {
          "output_type": "stream",
          "text": [
            "Count of yes : 4640 - 11.26541711178013 % \n",
            "Count of no : 36548 - 88.73458288821988 %\n"
          ],
          "name": "stdout"
        }
      ]
    },
    {
      "cell_type": "code",
      "metadata": {
        "id": "oWarUQmlCooJ"
      },
      "source": [
        "#split the data into training and test\r\n",
        "from sklearn.model_selection import train_test_split\r\n",
        "x_train,x_test,y_train,y_test=train_test_split(x,y,random_state=50,stratify=y,test_size=0.2)\r\n"
      ],
      "execution_count": 62,
      "outputs": []
    },
    {
      "cell_type": "code",
      "metadata": {
        "id": "BpVtGN_WE769"
      },
      "source": [
        "#10-fold stratified cross-validation on the training set using a random forest classifier with 100 trees and depth=3.\r\n",
        "\r\n",
        "from sklearn.ensemble import RandomForestClassifier\r\n",
        "from sklearn.model_selection import cross_val_score, cross_val_predict\r\n",
        "\r\n",
        "#clf = RandomForestClassifier(n_estimators=100, max_depth=3)\r\n"
      ],
      "execution_count": 16,
      "outputs": []
    },
    {
      "cell_type": "markdown",
      "metadata": {
        "id": "C1awI1tgXnoI"
      },
      "source": [
        "# Create StratifiedKFold object\r\n",
        "from sklearn.model_selection import StratifiedKFold \r\n",
        "\r\n",
        "skf = StratifiedKFold(n_splits=10,random_state=50) \r\n",
        "print(skf.split(x, y))\r\n",
        "strtacc = [] \r\n",
        "   \r\n",
        "for train_index, test_index in skf.split(x, y):\r\n",
        "  x_train_fold, x_test_fold = x.take(list(train_index),axis=0), x.take(list(test_index),axis=0)\r\n",
        "  y_train_fold, y_test_fold = y.take(list(train_index),axis=0), y.take(list(test_index),axis=0)\r\n",
        "  clf.fit(x_train_fold, y_train_fold) \r\n",
        "  strtacc.append(clf.score(x_test_fold, y_test_fold)) \r\n",
        "   \r\n"
      ]
    },
    {
      "cell_type": "code",
      "metadata": {
        "colab": {
          "base_uri": "https://localhost:8080/"
        },
        "id": "Uhv3U8DCX5Xw",
        "outputId": "5bf64db1-4b93-4854-889f-1e75af89a799"
      },
      "source": [
        "from sklearn.model_selection import cross_val_score, cross_val_predict\r\n",
        "\r\n",
        "# Perform 10-fold cross validation\r\n",
        "scores = cross_val_score(dummy_clf, x_train , y_train, cv=10)\r\n",
        "print ('Cross-validated scores:', scores)\r\n",
        "\r\n",
        "predictions = cross_val_predict(dummy_clf, x_test, y_test, cv=10)\r\n"
      ],
      "execution_count": null,
      "outputs": [
        {
          "output_type": "stream",
          "text": [
            "Cross-validated scores: [0.79453718 0.79757208 0.80212443 0.80242792 0.80789074 0.79787557\n",
            " 0.79514416 0.79605463 0.8        0.80030349]\n"
          ],
          "name": "stdout"
        }
      ]
    },
    {
      "cell_type": "code",
      "metadata": {
        "colab": {
          "base_uri": "https://localhost:8080/"
        },
        "id": "7IcoDlD_PGS5",
        "outputId": "62fc575f-79f6-441b-8e1f-ae15141c1864"
      },
      "source": [
        "sorted(sklearn.metrics.SCORERS.keys()) "
      ],
      "execution_count": null,
      "outputs": [
        {
          "output_type": "execute_result",
          "data": {
            "text/plain": [
              "['accuracy',\n",
              " 'adjusted_mutual_info_score',\n",
              " 'adjusted_rand_score',\n",
              " 'average_precision',\n",
              " 'balanced_accuracy',\n",
              " 'completeness_score',\n",
              " 'explained_variance',\n",
              " 'f1',\n",
              " 'f1_macro',\n",
              " 'f1_micro',\n",
              " 'f1_samples',\n",
              " 'f1_weighted',\n",
              " 'fowlkes_mallows_score',\n",
              " 'homogeneity_score',\n",
              " 'jaccard',\n",
              " 'jaccard_macro',\n",
              " 'jaccard_micro',\n",
              " 'jaccard_samples',\n",
              " 'jaccard_weighted',\n",
              " 'max_error',\n",
              " 'mutual_info_score',\n",
              " 'neg_brier_score',\n",
              " 'neg_log_loss',\n",
              " 'neg_mean_absolute_error',\n",
              " 'neg_mean_gamma_deviance',\n",
              " 'neg_mean_poisson_deviance',\n",
              " 'neg_mean_squared_error',\n",
              " 'neg_mean_squared_log_error',\n",
              " 'neg_median_absolute_error',\n",
              " 'neg_root_mean_squared_error',\n",
              " 'normalized_mutual_info_score',\n",
              " 'precision',\n",
              " 'precision_macro',\n",
              " 'precision_micro',\n",
              " 'precision_samples',\n",
              " 'precision_weighted',\n",
              " 'r2',\n",
              " 'recall',\n",
              " 'recall_macro',\n",
              " 'recall_micro',\n",
              " 'recall_samples',\n",
              " 'recall_weighted',\n",
              " 'roc_auc',\n",
              " 'roc_auc_ovo',\n",
              " 'roc_auc_ovo_weighted',\n",
              " 'roc_auc_ovr',\n",
              " 'roc_auc_ovr_weighted',\n",
              " 'v_measure_score']"
            ]
          },
          "metadata": {
            "tags": []
          },
          "execution_count": 30
        }
      ]
    },
    {
      "cell_type": "code",
      "metadata": {
        "colab": {
          "base_uri": "https://localhost:8080/"
        },
        "id": "lPztrVNiE8BN",
        "outputId": "b66d1f43-c6b4-4612-8784-6045f364ed2c"
      },
      "source": [
        "sklearn.metrics.f1_score(y_test,predictions)"
      ],
      "execution_count": null,
      "outputs": [
        {
          "output_type": "execute_result",
          "data": {
            "text/plain": [
              "0.12802582033351265"
            ]
          },
          "metadata": {
            "tags": []
          },
          "execution_count": 139
        }
      ]
    },
    {
      "cell_type": "code",
      "metadata": {
        "colab": {
          "base_uri": "https://localhost:8080/"
        },
        "id": "kx83iGhqdDBV",
        "outputId": "b535b764-ec07-45c6-89f6-78ad58efdccb"
      },
      "source": [
        "acc(y_test,predictions),sklearn.metrics.precision_score(y_test,predictions),sklearn.metrics.recall_score(y_test,predictions)"
      ],
      "execution_count": null,
      "outputs": [
        {
          "output_type": "execute_result",
          "data": {
            "text/plain": [
              "(0.898761835396941, 0.7098214285714286, 0.1713362068965517)"
            ]
          },
          "metadata": {
            "tags": []
          },
          "execution_count": 66
        }
      ]
    },
    {
      "cell_type": "code",
      "metadata": {
        "colab": {
          "base_uri": "https://localhost:8080/"
        },
        "id": "Yp2MoinHf52M",
        "outputId": "fa00837a-f1f1-4bec-a997-3fbd68e9a8be"
      },
      "source": [
        "dummy_clf = DummyClassifier(strategy='stratified')\r\n",
        "dummy_clf.fit(x_train, y_train)\r\n",
        "print(\"Dummy ACC: %.2f\" % acc(y_test, dummy_clf.predict(x_test)))"
      ],
      "execution_count": null,
      "outputs": [
        {
          "output_type": "stream",
          "text": [
            "Dummy ACC: 0.79\n"
          ],
          "name": "stdout"
        }
      ]
    },
    {
      "cell_type": "code",
      "metadata": {
        "colab": {
          "base_uri": "https://localhost:8080/"
        },
        "id": "TGYVonYHh9v-",
        "outputId": "5e50de19-6dfb-485d-a177-1a066035cbdf"
      },
      "source": [
        "from sklearn.model_selection import GridSearchCV\r\n",
        "#n_estimators=list(range(100, 200))\r\n",
        "n_estimators=[100,125,150,200]\r\n",
        "#max_depth=list(range(10, 100))\r\n",
        "max_depth = [2,4,6,8,10,12,None]\r\n",
        "\r\n",
        "param_grid = {'n_estimators':n_estimators, 'max_features':['auto'],'max_depth':max_depth, 'criterion':['gini','entropy']}\r\n",
        "\r\n",
        "# instantiate the grid\r\n",
        "grid = GridSearchCV(estimator=clf, param_grid=param_grid, cv=10, scoring='accuracy',n_jobs=10)\r\n",
        "\r\n",
        "# fit the grid with data\r\n",
        "grid.fit(x_train, y_train)"
      ],
      "execution_count": null,
      "outputs": [
        {
          "output_type": "execute_result",
          "data": {
            "text/plain": [
              "GridSearchCV(cv=10, error_score=nan,\n",
              "             estimator=RandomForestClassifier(bootstrap=True, ccp_alpha=0.0,\n",
              "                                              class_weight=None,\n",
              "                                              criterion='gini', max_depth=3,\n",
              "                                              max_features='auto',\n",
              "                                              max_leaf_nodes=None,\n",
              "                                              max_samples=None,\n",
              "                                              min_impurity_decrease=0.0,\n",
              "                                              min_impurity_split=None,\n",
              "                                              min_samples_leaf=1,\n",
              "                                              min_samples_split=2,\n",
              "                                              min_weight_fraction_leaf=0.0,\n",
              "                                              n_estimators=100, n_jobs=None,\n",
              "                                              oob_score=False,\n",
              "                                              random_state=None, verbose=0,\n",
              "                                              warm_start=False),\n",
              "             iid='deprecated', n_jobs=10,\n",
              "             param_grid={'criterion': ['gini', 'entropy'],\n",
              "                         'max_depth': [2, 4, 6, 8, 10, 12, None],\n",
              "                         'max_features': ['auto'],\n",
              "                         'n_estimators': [100, 125, 150, 200]},\n",
              "             pre_dispatch='2*n_jobs', refit=True, return_train_score=False,\n",
              "             scoring='accuracy', verbose=0)"
            ]
          },
          "metadata": {
            "tags": []
          },
          "execution_count": 67
        }
      ]
    },
    {
      "cell_type": "code",
      "metadata": {
        "colab": {
          "base_uri": "https://localhost:8080/"
        },
        "id": "1JaXR5GHi981",
        "outputId": "ab508fdb-1199-4bbf-a983-d377622ba2fe"
      },
      "source": [
        "print(grid.best_score_)\r\n",
        "\r\n",
        "print(grid.best_params_)\r\n",
        "\r\n",
        "print(grid.best_estimator_)"
      ],
      "execution_count": null,
      "outputs": [
        {
          "output_type": "stream",
          "text": [
            "0.901092564491654\n",
            "{'criterion': 'entropy', 'max_depth': 12, 'max_features': 'auto', 'n_estimators': 125}\n",
            "RandomForestClassifier(bootstrap=True, ccp_alpha=0.0, class_weight=None,\n",
            "                       criterion='entropy', max_depth=12, max_features='auto',\n",
            "                       max_leaf_nodes=None, max_samples=None,\n",
            "                       min_impurity_decrease=0.0, min_impurity_split=None,\n",
            "                       min_samples_leaf=1, min_samples_split=2,\n",
            "                       min_weight_fraction_leaf=0.0, n_estimators=125,\n",
            "                       n_jobs=None, oob_score=False, random_state=None,\n",
            "                       verbose=0, warm_start=False)\n"
          ],
          "name": "stdout"
        }
      ]
    },
    {
      "cell_type": "code",
      "metadata": {
        "colab": {
          "base_uri": "https://localhost:8080/"
        },
        "id": "IkGbEEazkqJO",
        "outputId": "14756382-4983-43f1-e2ac-78af06882025"
      },
      "source": [
        "clf = RandomForestClassifier(n_estimators=125, max_depth=12,criterion='entropy')\r\n",
        "\r\n",
        "scores = cross_val_score(clf, x_train , y_train, cv=10)\r\n",
        "print ('Cross-validated scores:', scores)\r\n",
        "\r\n",
        "predictions = cross_val_predict(clf, x_test, y_test, cv=10)\r\n",
        "acc(y_test,predictions),sklearn.metrics.precision_score(y_test,predictions),sklearn.metrics.recall_score(y_test,predictions)"
      ],
      "execution_count": null,
      "outputs": [
        {
          "output_type": "stream",
          "text": [
            "Cross-validated scores: [0.90227618 0.90227618 0.89650986 0.90045524 0.89499241 0.90227618\n",
            " 0.91107739 0.89863429 0.90075873 0.89650986]\n"
          ],
          "name": "stdout"
        },
        {
          "output_type": "execute_result",
          "data": {
            "text/plain": [
              "(0.8994901675163874, 0.6275510204081632, 0.2650862068965517)"
            ]
          },
          "metadata": {
            "tags": []
          },
          "execution_count": 69
        }
      ]
    },
    {
      "cell_type": "code",
      "metadata": {
        "id": "7aF5GSCaA3Gb",
        "colab": {
          "base_uri": "https://localhost:8080/"
        },
        "outputId": "9812a484-0220-4c2b-9d64-ef0aab836cdc"
      },
      "source": [
        "clf = RandomForestClassifier(n_estimators=150, max_depth=6)\r\n",
        "clf.fit(x_train, y_train)\r\n",
        "\r\n",
        "scores = cross_val_score(clf, x_train , y_train, cv=10)\r\n",
        "print ('Cross-validated scores:', scores)\r\n",
        "\r\n",
        "predictions = cross_val_predict(clf, x_test, y_test, cv=10)\r\n"
      ],
      "execution_count": 57,
      "outputs": [
        {
          "output_type": "stream",
          "text": [
            "Cross-validated scores: [0.89559939 0.90197269 0.89438543 0.90015175 0.89438543 0.90349014\n",
            " 0.90986343 0.89620637 0.89924127 0.89772382]\n"
          ],
          "name": "stdout"
        }
      ]
    },
    {
      "cell_type": "code",
      "metadata": {
        "id": "6KuglkuuMCxt",
        "outputId": "e856bcb5-240f-4a4b-d7f5-58869d092ace",
        "colab": {
          "base_uri": "https://localhost:8080/"
        }
      },
      "source": [
        "sklearn.metrics.f1_score(y_test,predictions)  #0.30354131534569984  0.8740396690315186\r\n"
      ],
      "execution_count": 58,
      "outputs": [
        {
          "output_type": "execute_result",
          "data": {
            "text/plain": [
              "0.2978003384094755"
            ]
          },
          "metadata": {
            "tags": []
          },
          "execution_count": 58
        }
      ]
    },
    {
      "cell_type": "code",
      "metadata": {
        "id": "vbsooCXANybo",
        "outputId": "251bff9f-b96b-4445-db33-d846b630f9b9",
        "colab": {
          "base_uri": "https://localhost:8080/"
        }
      },
      "source": [
        "clf = RandomForestClassifier(n_estimators=200, max_depth=8)\r\n",
        "clf.fit(x_train, y_train)\r\n",
        "\r\n",
        "scores = cross_val_score(clf, x_train , y_train,scoring='f1',cv=10)\r\n",
        "print ('Cross-validated scores:', scores.mean())\r\n",
        "\r\n",
        "predictions = clf.predict(x_test)\r\n",
        "sklearn.metrics.f1_score(y_test,predictions)  #\r\n"
      ],
      "execution_count": 63,
      "outputs": [
        {
          "output_type": "stream",
          "text": [
            "Cross-validated scores: 0.3067382868650035\n"
          ],
          "name": "stdout"
        },
        {
          "output_type": "execute_result",
          "data": {
            "text/plain": [
              "0.329795918367347"
            ]
          },
          "metadata": {
            "tags": []
          },
          "execution_count": 63
        }
      ]
    },
    {
      "cell_type": "code",
      "metadata": {
        "id": "0xsLOzWkB7yP",
        "colab": {
          "base_uri": "https://localhost:8080/"
        },
        "outputId": "6b49dbb4-89b8-470d-be48-9cede9747ce3"
      },
      "source": [
        "clf = RandomForestClassifier(n_estimators=400, max_depth=6,random_state=60)\r\n",
        "scores = cross_val_score(clf, x_train , y_train, cv=10)\r\n",
        "print ('Cross-validated scores:', scores)\r\n",
        "\r\n",
        "predictions = cross_val_predict(clf, x_test, y_test, cv=10)\r\n"
      ],
      "execution_count": 54,
      "outputs": [
        {
          "output_type": "stream",
          "text": [
            "Cross-validated scores: [0.89590288 0.90197269 0.89408194 0.90045524 0.89468892 0.90318665\n",
            " 0.91016692 0.89742033 0.89893778 0.89772382]\n"
          ],
          "name": "stdout"
        }
      ]
    },
    {
      "cell_type": "code",
      "metadata": {
        "colab": {
          "base_uri": "https://localhost:8080/"
        },
        "id": "NAq-kiTQqYGh",
        "outputId": "de021e7d-36fd-4843-b977-9f697cfed381"
      },
      "source": [
        "sklearn.metrics.f1_score(y_test,predictions)  #"
      ],
      "execution_count": 55,
      "outputs": [
        {
          "output_type": "execute_result",
          "data": {
            "text/plain": [
              "0.3014394580863675"
            ]
          },
          "metadata": {
            "tags": []
          },
          "execution_count": 55
        }
      ]
    },
    {
      "cell_type": "code",
      "metadata": {
        "colab": {
          "base_uri": "https://localhost:8080/"
        },
        "id": "k8kRqxTbxodc",
        "outputId": "6da99c0b-0484-48d2-df5c-6e570d374c5a"
      },
      "source": [
        "clf = RandomForestClassifier(n_estimators=100, max_depth=12,random_state=60)\r\n",
        "scores = cross_val_score(clf, x_train , y_train, cv=10)\r\n",
        "print ('Cross-validated scores:', scores)\r\n",
        "\r\n",
        "predictions = cross_val_predict(clf, x_test, y_test, cv=10)\r\n",
        "sklearn.metrics.f1_score(y_test,predictions)  #"
      ],
      "execution_count": 52,
      "outputs": [
        {
          "output_type": "stream",
          "text": [
            "Cross-validated scores: [0.90106222 0.90379363 0.89681335 0.89954476 0.89347496 0.90227618\n",
            " 0.9107739  0.89772382 0.90106222 0.89620637]\n"
          ],
          "name": "stdout"
        },
        {
          "output_type": "execute_result",
          "data": {
            "text/plain": [
              "0.3857036485480268"
            ]
          },
          "metadata": {
            "tags": []
          },
          "execution_count": 52
        }
      ]
    },
    {
      "cell_type": "code",
      "metadata": {
        "colab": {
          "base_uri": "https://localhost:8080/"
        },
        "id": "vsX7dmyHyE72",
        "outputId": "f848c9d5-66a9-41b6-bfc7-389c59bbf583"
      },
      "source": [
        "x.columns"
      ],
      "execution_count": null,
      "outputs": [
        {
          "output_type": "execute_result",
          "data": {
            "text/plain": [
              "Index(['age', 'campaign', 'pdays', 'previous', 'emp.var.rate',\n",
              "       'cons.price.idx', 'cons.conf.idx', 'euribor3m', 'nr.employed', 'admin.',\n",
              "       'blue-collar', 'entrepreneur', 'housemaid', 'management', 'retired',\n",
              "       'self-employed', 'services', 'student', 'technician', 'unemployed',\n",
              "       'unknown', 'divorced', 'married', 'single', 'unknown', 'basic.4y',\n",
              "       'basic.6y', 'basic.9y', 'high.school', 'illiterate',\n",
              "       'professional.course', 'university.degree', 'unknown', 'no', 'unknown',\n",
              "       'yes', 'no', 'unknown', 'yes', 'no', 'unknown', 'yes', 'cellular',\n",
              "       'telephone', 'apr', 'aug', 'dec', 'jul', 'jun', 'mar', 'may', 'nov',\n",
              "       'oct', 'sep', 'fri', 'mon', 'thu', 'tue', 'wed', 'failure',\n",
              "       'nonexistent', 'success'],\n",
              "      dtype='object')"
            ]
          },
          "metadata": {
            "tags": []
          },
          "execution_count": 134
        }
      ]
    },
    {
      "cell_type": "code",
      "metadata": {
        "colab": {
          "base_uri": "https://localhost:8080/",
          "height": 1000
        },
        "id": "vR44tBGBkmyi",
        "outputId": "520ca733-61db-4200-bf11-1c91ecefc043"
      },
      "source": [
        "features = ['age', 'campaign', 'pdays', 'previous', 'emp.var.rate',\r\n",
        "       'cons.price.idx', 'cons.conf.idx', 'euribor3m', 'nr.employed', 'admin.',\r\n",
        "       'blue-collar', 'entrepreneur', 'housemaid', 'management', 'retired',\r\n",
        "       'self-employed', 'services', 'student', 'technician', 'unemployed',\r\n",
        "       'unknown', 'divorced', 'married', 'single', 'unknown', 'basic.4y',\r\n",
        "       'basic.6y', 'basic.9y', 'high.school', 'illiterate',\r\n",
        "       'professional.course', 'university.degree', 'unknown', 'no', 'unknown',\r\n",
        "       'yes', 'no', 'unknown', 'yes', 'no', 'unknown', 'yes', 'cellular',\r\n",
        "       'telephone', 'apr', 'aug', 'dec', 'jul', 'jun', 'mar', 'may', 'nov',\r\n",
        "       'oct', 'sep', 'fri', 'mon', 'thu', 'tue', 'wed', 'failure',\r\n",
        "       'nonexistent', 'success']\r\n",
        "\r\n",
        "clf.fit(x_train, y_train)\r\n",
        "importances = clf.feature_importances_\r\n",
        "std = np.std([tree.feature_importances_ for tree in clf.estimators_],\r\n",
        "             axis=0)\r\n",
        "indices = np.argsort(importances)[::-1]\r\n",
        "print(indices)\r\n",
        "\r\n",
        "# Print the feature ranking\r\n",
        "print(\"Feature ranking:\")\r\n",
        "\r\n",
        "for f in range(x.shape[1]):\r\n",
        "    print(\"%d. %s (%f)\" % (f + 1, features[indices[f]],  importances[indices[f]]))\r\n",
        "\r\n",
        "# Plot the feature importances of the forest\r\n",
        "fig = plt.figure()\r\n",
        "plt.title(\"Feature importances\")\r\n",
        "plt.bar(range(x.shape[1]), importances[indices],\r\n",
        "       color=\"r\", yerr=std[indices], align=\"center\")\r\n",
        "plt.xticks(range(x.shape[1]), np.array(features)[indices])\r\n",
        "plt.xlim([-1, x.shape[1]])\r\n",
        "plt.ylim([0, None])\r\n",
        "\r\n",
        "fig.set_size_inches(20,8)\r\n"
      ],
      "execution_count": 53,
      "outputs": [
        {
          "output_type": "stream",
          "text": [
            "[ 7  8 61  4  2  0  6  5  3  1 59 49 43 52 60 42 50 55 31 38 36 56 23 44\n",
            " 54 39 57 28 58 10 22  9 41 18 14 33 30 27 17 48 25 21 13 34 53 32 16 26\n",
            " 19 15 45 51 47 40 12 11 37 20 46 24 29 35]\n",
            "Feature ranking:\n",
            "1. euribor3m (0.148393)\n",
            "2. nr.employed (0.113660)\n",
            "3. success (0.076603)\n",
            "4. emp.var.rate (0.065022)\n",
            "5. pdays (0.061397)\n",
            "6. age (0.060275)\n",
            "7. cons.conf.idx (0.052059)\n",
            "8. cons.price.idx (0.048685)\n",
            "9. previous (0.029007)\n",
            "10. campaign (0.026818)\n",
            "11. failure (0.016507)\n",
            "12. mar (0.013838)\n",
            "13. telephone (0.013198)\n",
            "14. oct (0.012439)\n",
            "15. nonexistent (0.012053)\n",
            "16. cellular (0.011745)\n",
            "17. may (0.011076)\n",
            "18. mon (0.010003)\n",
            "19. university.degree (0.008650)\n",
            "20. yes (0.008404)\n",
            "21. no (0.008335)\n",
            "22. thu (0.008108)\n",
            "23. single (0.008034)\n",
            "24. apr (0.007734)\n",
            "25. fri (0.007704)\n",
            "26. no (0.007311)\n",
            "27. tue (0.007209)\n",
            "28. high.school (0.007132)\n",
            "29. wed (0.007122)\n",
            "30. blue-collar (0.007086)\n",
            "31. married (0.006979)\n",
            "32. admin. (0.006658)\n",
            "33. yes (0.006314)\n",
            "34. technician (0.006138)\n",
            "35. retired (0.006136)\n",
            "36. no (0.005655)\n",
            "37. professional.course (0.005636)\n",
            "38. basic.9y (0.005475)\n",
            "39. student (0.005337)\n",
            "40. jun (0.005025)\n",
            "41. basic.4y (0.005012)\n",
            "42. divorced (0.005011)\n",
            "43. management (0.004365)\n",
            "44. unknown (0.004250)\n",
            "45. sep (0.004144)\n",
            "46. unknown (0.003967)\n",
            "47. services (0.003812)\n",
            "48. basic.6y (0.003710)\n",
            "49. unemployed (0.003344)\n",
            "50. self-employed (0.003225)\n",
            "51. aug (0.003192)\n",
            "52. nov (0.003157)\n",
            "53. jul (0.002885)\n",
            "54. unknown (0.002691)\n",
            "55. housemaid (0.002682)\n",
            "56. entrepreneur (0.002257)\n",
            "57. unknown (0.002240)\n",
            "58. unknown (0.002103)\n",
            "59. dec (0.001891)\n",
            "60. unknown (0.000849)\n",
            "61. illiterate (0.000255)\n",
            "62. yes (0.000000)\n"
          ],
          "name": "stdout"
        },
        {
          "output_type": "display_data",
          "data": {
            "image/png": "[encoded data removed]",
            "text/plain": [
              "<Figure size 1440x576 with 1 Axes>"
            ]
          },
          "metadata": {
            "tags": [],
            "needs_background": "light"
          }
        }
      ]
    }
  ]
}