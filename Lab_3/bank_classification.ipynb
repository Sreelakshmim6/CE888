{
  "nbformat": 4,
  "nbformat_minor": 0,
  "metadata": {
    "colab": {
      "name": "bank_classification.ipynb",
      "provenance": [],
      "authorship_tag": "ABX9TyPxA2LSG4PtZ7yasZGey5oR",
      "include_colab_link": true
    },
    "kernelspec": {
      "name": "python3",
      "display_name": "Python 3"
    }
  },
  "cells": [
    {
      "cell_type": "markdown",
      "metadata": {
        "id": "view-in-github",
        "colab_type": "text"
      },
      "source": [
        "<a href=\"https://colab.research.google.com/github/Sreelakshmim6/CE888/blob/main/Lab_3/bank_classification.ipynb\" target=\"_parent\"><img src=\"https://colab.research.google.com/assets/colab-badge.svg\" alt=\"Open In Colab\"/></a>"
      ]
    },
    {
      "cell_type": "code",
      "metadata": {
        "id": "feawouNW1-ef"
      },
      "source": [
        "%matplotlib inline\r\n",
        "import matplotlib\r\n",
        "import numpy as np\r\n",
        "import matplotlib.pyplot as plt\r\n",
        "import pandas as pd\r\n",
        "import seaborn as sns\r\n",
        "import itertools\r\n",
        "import sklearn\r\n",
        "from sklearn.tree import DecisionTreeRegressor\r\n",
        "from sklearn.ensemble import RandomForestClassifier, ExtraTreesClassifier\r\n",
        "from sklearn.model_selection import cross_val_score\r\n",
        "from sklearn.metrics import mean_squared_error as mse\r\n",
        "from sklearn.metrics import mean_absolute_error as mae\r\n",
        "from sklearn.metrics import accuracy_score as acc\r\n",
        "from sklearn.metrics import make_scorer, confusion_matrix\r\n",
        "from sklearn.dummy import DummyRegressor, DummyClassifier\r\n",
        "from sklearn.preprocessing import LabelEncoder\r\n"
      ],
      "execution_count": 105,
      "outputs": []
    },
    {
      "cell_type": "code",
      "metadata": {
        "colab": {
          "base_uri": "https://localhost:8080/",
          "height": 215
        },
        "id": "IUFHznXj2Y81",
        "outputId": "86136dc3-0caa-4bca-a690-c572d9417410"
      },
      "source": [
        "df = pd.read_csv(\"https://raw.githubusercontent.com/albanda/CE888/master/lab3/bank-additional-full.csv\", delimiter = \";\")\r\n",
        "df.head()"
      ],
      "execution_count": 106,
      "outputs": [
        {
          "output_type": "execute_result",
          "data": {
            "text/html": [
              "<div>\n",
              "<style scoped>\n",
              "    .dataframe tbody tr th:only-of-type {\n",
              "        vertical-align: middle;\n",
              "    }\n",
              "\n",
              "    .dataframe tbody tr th {\n",
              "        vertical-align: top;\n",
              "    }\n",
              "\n",
              "    .dataframe thead th {\n",
              "        text-align: right;\n",
              "    }\n",
              "</style>\n",
              "<table border=\"1\" class=\"dataframe\">\n",
              "  <thead>\n",
              "    <tr style=\"text-align: right;\">\n",
              "      <th></th>\n",
              "      <th>age</th>\n",
              "      <th>job</th>\n",
              "      <th>marital</th>\n",
              "      <th>education</th>\n",
              "      <th>default</th>\n",
              "      <th>housing</th>\n",
              "      <th>loan</th>\n",
              "      <th>contact</th>\n",
              "      <th>month</th>\n",
              "      <th>day_of_week</th>\n",
              "      <th>duration</th>\n",
              "      <th>campaign</th>\n",
              "      <th>pdays</th>\n",
              "      <th>previous</th>\n",
              "      <th>poutcome</th>\n",
              "      <th>emp.var.rate</th>\n",
              "      <th>cons.price.idx</th>\n",
              "      <th>cons.conf.idx</th>\n",
              "      <th>euribor3m</th>\n",
              "      <th>nr.employed</th>\n",
              "      <th>y</th>\n",
              "    </tr>\n",
              "  </thead>\n",
              "  <tbody>\n",
              "    <tr>\n",
              "      <th>0</th>\n",
              "      <td>56</td>\n",
              "      <td>housemaid</td>\n",
              "      <td>married</td>\n",
              "      <td>basic.4y</td>\n",
              "      <td>no</td>\n",
              "      <td>no</td>\n",
              "      <td>no</td>\n",
              "      <td>telephone</td>\n",
              "      <td>may</td>\n",
              "      <td>mon</td>\n",
              "      <td>261</td>\n",
              "      <td>1</td>\n",
              "      <td>999</td>\n",
              "      <td>0</td>\n",
              "      <td>nonexistent</td>\n",
              "      <td>1.1</td>\n",
              "      <td>93.994</td>\n",
              "      <td>-36.4</td>\n",
              "      <td>4.857</td>\n",
              "      <td>5191.0</td>\n",
              "      <td>no</td>\n",
              "    </tr>\n",
              "    <tr>\n",
              "      <th>1</th>\n",
              "      <td>57</td>\n",
              "      <td>services</td>\n",
              "      <td>married</td>\n",
              "      <td>high.school</td>\n",
              "      <td>unknown</td>\n",
              "      <td>no</td>\n",
              "      <td>no</td>\n",
              "      <td>telephone</td>\n",
              "      <td>may</td>\n",
              "      <td>mon</td>\n",
              "      <td>149</td>\n",
              "      <td>1</td>\n",
              "      <td>999</td>\n",
              "      <td>0</td>\n",
              "      <td>nonexistent</td>\n",
              "      <td>1.1</td>\n",
              "      <td>93.994</td>\n",
              "      <td>-36.4</td>\n",
              "      <td>4.857</td>\n",
              "      <td>5191.0</td>\n",
              "      <td>no</td>\n",
              "    </tr>\n",
              "    <tr>\n",
              "      <th>2</th>\n",
              "      <td>37</td>\n",
              "      <td>services</td>\n",
              "      <td>married</td>\n",
              "      <td>high.school</td>\n",
              "      <td>no</td>\n",
              "      <td>yes</td>\n",
              "      <td>no</td>\n",
              "      <td>telephone</td>\n",
              "      <td>may</td>\n",
              "      <td>mon</td>\n",
              "      <td>226</td>\n",
              "      <td>1</td>\n",
              "      <td>999</td>\n",
              "      <td>0</td>\n",
              "      <td>nonexistent</td>\n",
              "      <td>1.1</td>\n",
              "      <td>93.994</td>\n",
              "      <td>-36.4</td>\n",
              "      <td>4.857</td>\n",
              "      <td>5191.0</td>\n",
              "      <td>no</td>\n",
              "    </tr>\n",
              "    <tr>\n",
              "      <th>3</th>\n",
              "      <td>40</td>\n",
              "      <td>admin.</td>\n",
              "      <td>married</td>\n",
              "      <td>basic.6y</td>\n",
              "      <td>no</td>\n",
              "      <td>no</td>\n",
              "      <td>no</td>\n",
              "      <td>telephone</td>\n",
              "      <td>may</td>\n",
              "      <td>mon</td>\n",
              "      <td>151</td>\n",
              "      <td>1</td>\n",
              "      <td>999</td>\n",
              "      <td>0</td>\n",
              "      <td>nonexistent</td>\n",
              "      <td>1.1</td>\n",
              "      <td>93.994</td>\n",
              "      <td>-36.4</td>\n",
              "      <td>4.857</td>\n",
              "      <td>5191.0</td>\n",
              "      <td>no</td>\n",
              "    </tr>\n",
              "    <tr>\n",
              "      <th>4</th>\n",
              "      <td>56</td>\n",
              "      <td>services</td>\n",
              "      <td>married</td>\n",
              "      <td>high.school</td>\n",
              "      <td>no</td>\n",
              "      <td>no</td>\n",
              "      <td>yes</td>\n",
              "      <td>telephone</td>\n",
              "      <td>may</td>\n",
              "      <td>mon</td>\n",
              "      <td>307</td>\n",
              "      <td>1</td>\n",
              "      <td>999</td>\n",
              "      <td>0</td>\n",
              "      <td>nonexistent</td>\n",
              "      <td>1.1</td>\n",
              "      <td>93.994</td>\n",
              "      <td>-36.4</td>\n",
              "      <td>4.857</td>\n",
              "      <td>5191.0</td>\n",
              "      <td>no</td>\n",
              "    </tr>\n",
              "  </tbody>\n",
              "</table>\n",
              "</div>"
            ],
            "text/plain": [
              "   age        job  marital  ... euribor3m nr.employed   y\n",
              "0   56  housemaid  married  ...     4.857      5191.0  no\n",
              "1   57   services  married  ...     4.857      5191.0  no\n",
              "2   37   services  married  ...     4.857      5191.0  no\n",
              "3   40     admin.  married  ...     4.857      5191.0  no\n",
              "4   56   services  married  ...     4.857      5191.0  no\n",
              "\n",
              "[5 rows x 21 columns]"
            ]
          },
          "metadata": {
            "tags": []
          },
          "execution_count": 106
        }
      ]
    },
    {
      "cell_type": "code",
      "metadata": {
        "colab": {
          "base_uri": "https://localhost:8080/"
        },
        "id": "RyKEAzaA3DgY",
        "outputId": "b9084160-31a9-4465-ec1a-7681938580cb"
      },
      "source": [
        "df_original=df.copy()\r\n",
        "df.dtypes"
      ],
      "execution_count": 107,
      "outputs": [
        {
          "output_type": "execute_result",
          "data": {
            "text/plain": [
              "age                 int64\n",
              "job                object\n",
              "marital            object\n",
              "education          object\n",
              "default            object\n",
              "housing            object\n",
              "loan               object\n",
              "contact            object\n",
              "month              object\n",
              "day_of_week        object\n",
              "duration            int64\n",
              "campaign            int64\n",
              "pdays               int64\n",
              "previous            int64\n",
              "poutcome           object\n",
              "emp.var.rate      float64\n",
              "cons.price.idx    float64\n",
              "cons.conf.idx     float64\n",
              "euribor3m         float64\n",
              "nr.employed       float64\n",
              "y                  object\n",
              "dtype: object"
            ]
          },
          "metadata": {
            "tags": []
          },
          "execution_count": 107
        }
      ]
    },
    {
      "cell_type": "code",
      "metadata": {
        "colab": {
          "base_uri": "https://localhost:8080/",
          "height": 215
        },
        "id": "UAFHe4x83DuC",
        "outputId": "ec4adbe2-2c26-40ba-ed9e-a25984c132cf"
      },
      "source": [
        "# convert a string variable to a categorical one\r\n",
        "df[[\"y\"]] = df[[\"y\"]].apply(LabelEncoder().fit_transform)\r\n",
        "#df[[\"poutcome\"]] = df[[\"poutcome\"]].apply(LabelEncoder().fit_transform)\r\n",
        "#df[[\"day_of_week\"]] = df[[\"day_of_week\"]].apply(LabelEncoder().fit_transform)\r\n",
        "\r\n",
        "df.head()"
      ],
      "execution_count": 108,
      "outputs": [
        {
          "output_type": "execute_result",
          "data": {
            "text/html": [
              "<div>\n",
              "<style scoped>\n",
              "    .dataframe tbody tr th:only-of-type {\n",
              "        vertical-align: middle;\n",
              "    }\n",
              "\n",
              "    .dataframe tbody tr th {\n",
              "        vertical-align: top;\n",
              "    }\n",
              "\n",
              "    .dataframe thead th {\n",
              "        text-align: right;\n",
              "    }\n",
              "</style>\n",
              "<table border=\"1\" class=\"dataframe\">\n",
              "  <thead>\n",
              "    <tr style=\"text-align: right;\">\n",
              "      <th></th>\n",
              "      <th>age</th>\n",
              "      <th>job</th>\n",
              "      <th>marital</th>\n",
              "      <th>education</th>\n",
              "      <th>default</th>\n",
              "      <th>housing</th>\n",
              "      <th>loan</th>\n",
              "      <th>contact</th>\n",
              "      <th>month</th>\n",
              "      <th>day_of_week</th>\n",
              "      <th>duration</th>\n",
              "      <th>campaign</th>\n",
              "      <th>pdays</th>\n",
              "      <th>previous</th>\n",
              "      <th>poutcome</th>\n",
              "      <th>emp.var.rate</th>\n",
              "      <th>cons.price.idx</th>\n",
              "      <th>cons.conf.idx</th>\n",
              "      <th>euribor3m</th>\n",
              "      <th>nr.employed</th>\n",
              "      <th>y</th>\n",
              "    </tr>\n",
              "  </thead>\n",
              "  <tbody>\n",
              "    <tr>\n",
              "      <th>0</th>\n",
              "      <td>56</td>\n",
              "      <td>housemaid</td>\n",
              "      <td>married</td>\n",
              "      <td>basic.4y</td>\n",
              "      <td>no</td>\n",
              "      <td>no</td>\n",
              "      <td>no</td>\n",
              "      <td>telephone</td>\n",
              "      <td>may</td>\n",
              "      <td>mon</td>\n",
              "      <td>261</td>\n",
              "      <td>1</td>\n",
              "      <td>999</td>\n",
              "      <td>0</td>\n",
              "      <td>nonexistent</td>\n",
              "      <td>1.1</td>\n",
              "      <td>93.994</td>\n",
              "      <td>-36.4</td>\n",
              "      <td>4.857</td>\n",
              "      <td>5191.0</td>\n",
              "      <td>0</td>\n",
              "    </tr>\n",
              "    <tr>\n",
              "      <th>1</th>\n",
              "      <td>57</td>\n",
              "      <td>services</td>\n",
              "      <td>married</td>\n",
              "      <td>high.school</td>\n",
              "      <td>unknown</td>\n",
              "      <td>no</td>\n",
              "      <td>no</td>\n",
              "      <td>telephone</td>\n",
              "      <td>may</td>\n",
              "      <td>mon</td>\n",
              "      <td>149</td>\n",
              "      <td>1</td>\n",
              "      <td>999</td>\n",
              "      <td>0</td>\n",
              "      <td>nonexistent</td>\n",
              "      <td>1.1</td>\n",
              "      <td>93.994</td>\n",
              "      <td>-36.4</td>\n",
              "      <td>4.857</td>\n",
              "      <td>5191.0</td>\n",
              "      <td>0</td>\n",
              "    </tr>\n",
              "    <tr>\n",
              "      <th>2</th>\n",
              "      <td>37</td>\n",
              "      <td>services</td>\n",
              "      <td>married</td>\n",
              "      <td>high.school</td>\n",
              "      <td>no</td>\n",
              "      <td>yes</td>\n",
              "      <td>no</td>\n",
              "      <td>telephone</td>\n",
              "      <td>may</td>\n",
              "      <td>mon</td>\n",
              "      <td>226</td>\n",
              "      <td>1</td>\n",
              "      <td>999</td>\n",
              "      <td>0</td>\n",
              "      <td>nonexistent</td>\n",
              "      <td>1.1</td>\n",
              "      <td>93.994</td>\n",
              "      <td>-36.4</td>\n",
              "      <td>4.857</td>\n",
              "      <td>5191.0</td>\n",
              "      <td>0</td>\n",
              "    </tr>\n",
              "    <tr>\n",
              "      <th>3</th>\n",
              "      <td>40</td>\n",
              "      <td>admin.</td>\n",
              "      <td>married</td>\n",
              "      <td>basic.6y</td>\n",
              "      <td>no</td>\n",
              "      <td>no</td>\n",
              "      <td>no</td>\n",
              "      <td>telephone</td>\n",
              "      <td>may</td>\n",
              "      <td>mon</td>\n",
              "      <td>151</td>\n",
              "      <td>1</td>\n",
              "      <td>999</td>\n",
              "      <td>0</td>\n",
              "      <td>nonexistent</td>\n",
              "      <td>1.1</td>\n",
              "      <td>93.994</td>\n",
              "      <td>-36.4</td>\n",
              "      <td>4.857</td>\n",
              "      <td>5191.0</td>\n",
              "      <td>0</td>\n",
              "    </tr>\n",
              "    <tr>\n",
              "      <th>4</th>\n",
              "      <td>56</td>\n",
              "      <td>services</td>\n",
              "      <td>married</td>\n",
              "      <td>high.school</td>\n",
              "      <td>no</td>\n",
              "      <td>no</td>\n",
              "      <td>yes</td>\n",
              "      <td>telephone</td>\n",
              "      <td>may</td>\n",
              "      <td>mon</td>\n",
              "      <td>307</td>\n",
              "      <td>1</td>\n",
              "      <td>999</td>\n",
              "      <td>0</td>\n",
              "      <td>nonexistent</td>\n",
              "      <td>1.1</td>\n",
              "      <td>93.994</td>\n",
              "      <td>-36.4</td>\n",
              "      <td>4.857</td>\n",
              "      <td>5191.0</td>\n",
              "      <td>0</td>\n",
              "    </tr>\n",
              "  </tbody>\n",
              "</table>\n",
              "</div>"
            ],
            "text/plain": [
              "   age        job  marital  ... euribor3m nr.employed  y\n",
              "0   56  housemaid  married  ...     4.857      5191.0  0\n",
              "1   57   services  married  ...     4.857      5191.0  0\n",
              "2   37   services  married  ...     4.857      5191.0  0\n",
              "3   40     admin.  married  ...     4.857      5191.0  0\n",
              "4   56   services  married  ...     4.857      5191.0  0\n",
              "\n",
              "[5 rows x 21 columns]"
            ]
          },
          "metadata": {
            "tags": []
          },
          "execution_count": 108
        }
      ]
    },
    {
      "cell_type": "code",
      "metadata": {
        "colab": {
          "base_uri": "https://localhost:8080/"
        },
        "id": "CrnvzoqF4gKS",
        "outputId": "4fa6cd34-05b0-455d-bd15-4912dba7cfeb"
      },
      "source": [
        "df.isnull().sum()"
      ],
      "execution_count": 10,
      "outputs": [
        {
          "output_type": "execute_result",
          "data": {
            "text/plain": [
              "age               0\n",
              "job               0\n",
              "marital           0\n",
              "education         0\n",
              "default           0\n",
              "housing           0\n",
              "loan              0\n",
              "contact           0\n",
              "month             0\n",
              "day_of_week       0\n",
              "duration          0\n",
              "campaign          0\n",
              "pdays             0\n",
              "previous          0\n",
              "poutcome          0\n",
              "emp.var.rate      0\n",
              "cons.price.idx    0\n",
              "cons.conf.idx     0\n",
              "euribor3m         0\n",
              "nr.employed       0\n",
              "y                 0\n",
              "dtype: int64"
            ]
          },
          "metadata": {
            "tags": []
          },
          "execution_count": 10
        }
      ]
    },
    {
      "cell_type": "code",
      "metadata": {
        "colab": {
          "base_uri": "https://localhost:8080/"
        },
        "id": "Y2WiUzsv73iM",
        "outputId": "35eadf68-916b-4b4f-9072-e4b8ab3b819f"
      },
      "source": [
        "#df['education']=df['education'].replace(['basic.4y','basic.6y','basic.9y'],['basic','basic','basic'])\r\n",
        "df.dtypes"
      ],
      "execution_count": 110,
      "outputs": [
        {
          "output_type": "execute_result",
          "data": {
            "text/plain": [
              "age                 int64\n",
              "job                object\n",
              "marital            object\n",
              "education          object\n",
              "default            object\n",
              "housing            object\n",
              "loan               object\n",
              "contact            object\n",
              "month              object\n",
              "day_of_week        object\n",
              "duration            int64\n",
              "campaign            int64\n",
              "pdays               int64\n",
              "previous            int64\n",
              "poutcome           object\n",
              "emp.var.rate      float64\n",
              "cons.price.idx    float64\n",
              "cons.conf.idx     float64\n",
              "euribor3m         float64\n",
              "nr.employed       float64\n",
              "y                   int64\n",
              "dtype: object"
            ]
          },
          "metadata": {
            "tags": []
          },
          "execution_count": 110
        }
      ]
    },
    {
      "cell_type": "code",
      "metadata": {
        "id": "86mx_WXW73jQ"
      },
      "source": [
        "dummy1=pd.get_dummies(df['job'])\r\n",
        "dummy2=pd.get_dummies(df['marital'])\r\n",
        "dummy3=pd.get_dummies(df['education'])\r\n",
        "dummy4=pd.get_dummies(df['default'])\r\n",
        "dummy5=pd.get_dummies(df['housing'])\r\n",
        "dummy6=pd.get_dummies(df['loan'])\r\n",
        "dummy7=pd.get_dummies(df['contact'])\r\n",
        "dummy8=pd.get_dummies(df['month'])\r\n",
        "dummy9=pd.get_dummies(df['day_of_week'])\r\n",
        "dummy10=pd.get_dummies(df['poutcome'])\r\n",
        "\r\n",
        "#combine dummy data with main dataframe\r\n",
        "master=pd.concat([df,dummy1,dummy2,dummy3,dummy4,dummy5,dummy6,dummy7,dummy8,dummy9,dummy10],axis=1)\r\n"
      ],
      "execution_count": 111,
      "outputs": []
    },
    {
      "cell_type": "code",
      "metadata": {
        "colab": {
          "base_uri": "https://localhost:8080/"
        },
        "id": "pPuOZDaB73n7",
        "outputId": "c58618b7-ec33-4847-c807-52f9111db4f5"
      },
      "source": [
        "len(master.columns)"
      ],
      "execution_count": 120,
      "outputs": [
        {
          "output_type": "execute_result",
          "data": {
            "text/plain": [
              "74"
            ]
          },
          "metadata": {
            "tags": []
          },
          "execution_count": 120
        }
      ]
    },
    {
      "cell_type": "code",
      "metadata": {
        "colab": {
          "base_uri": "https://localhost:8080/"
        },
        "id": "qzwrb6tp73op",
        "outputId": "3fd94fc7-8d99-473c-ca47-0a7c93926ac7"
      },
      "source": [
        "x=master.drop(['job', 'marital', 'education', 'default', 'housing', 'loan','month','duration','contact','day_of_week','poutcome','y'],axis=1)\r\n",
        "x.dtypes"
      ],
      "execution_count": 113,
      "outputs": [
        {
          "output_type": "execute_result",
          "data": {
            "text/plain": [
              "age               int64\n",
              "campaign          int64\n",
              "pdays             int64\n",
              "previous          int64\n",
              "emp.var.rate    float64\n",
              "                 ...   \n",
              "tue               uint8\n",
              "wed               uint8\n",
              "failure           uint8\n",
              "nonexistent       uint8\n",
              "success           uint8\n",
              "Length: 62, dtype: object"
            ]
          },
          "metadata": {
            "tags": []
          },
          "execution_count": 113
        }
      ]
    },
    {
      "cell_type": "code",
      "metadata": {
        "id": "a4cXBxF-_hPN"
      },
      "source": [
        "y=master.y"
      ],
      "execution_count": 115,
      "outputs": []
    },
    {
      "cell_type": "code",
      "metadata": {
        "colab": {
          "base_uri": "https://localhost:8080/",
          "height": 279
        },
        "id": "5wfawKfCAUSA",
        "outputId": "b84ae6d9-993b-47e5-e6ff-c25689e1da28"
      },
      "source": [
        "sns_plot = sns.histplot(y, kde=False)\r\n"
      ],
      "execution_count": 116,
      "outputs": [
        {
          "output_type": "display_data",
          "data": {
            "image/png": "[encoded data removed]",
            "text/plain": [
              "<Figure size 432x288 with 1 Axes>"
            ]
          },
          "metadata": {
            "tags": [],
            "needs_background": "light"
          }
        }
      ]
    },
    {
      "cell_type": "code",
      "metadata": {
        "colab": {
          "base_uri": "https://localhost:8080/"
        },
        "id": "qpN5kCs-UaDp",
        "outputId": "dea24aed-717c-4773-a5b8-54474d8a1c97"
      },
      "source": [
        "z=list(y)\r\n",
        "print(\"Count of yes :\",z.count(1),\"-\",z.count(1)*100/len(y),\"%\",\"\\nCount of no :\",z.count(0),\"-\",z.count(0)*100/len(y),\"%\")\r\n"
      ],
      "execution_count": 117,
      "outputs": [
        {
          "output_type": "stream",
          "text": [
            "Count of yes : 4640 - 11.26541711178013 % \n",
            "Count of no : 36548 - 88.73458288821988 %\n"
          ],
          "name": "stdout"
        }
      ]
    },
    {
      "cell_type": "code",
      "metadata": {
        "id": "oWarUQmlCooJ"
      },
      "source": [
        "#split the data into training and test\r\n",
        "from sklearn.model_selection import train_test_split\r\n",
        "x_train,x_test,y_train,y_test=train_test_split(x,y,random_state=50,stratify=y,test_size=0.2)\r\n"
      ],
      "execution_count": 121,
      "outputs": []
    },
    {
      "cell_type": "code",
      "metadata": {
        "id": "BpVtGN_WE769"
      },
      "source": [
        "#10-fold stratified cross-validation on the training set using a random forest classifier with 100 trees and depth=3.\r\n",
        "\r\n",
        "from sklearn.ensemble import RandomForestClassifier\r\n",
        "\r\n",
        "clf = RandomForestClassifier(n_estimators=100, max_depth=3)\r\n"
      ],
      "execution_count": 122,
      "outputs": []
    },
    {
      "cell_type": "markdown",
      "metadata": {
        "id": "C1awI1tgXnoI"
      },
      "source": [
        "# Create StratifiedKFold object\r\n",
        "from sklearn.model_selection import StratifiedKFold \r\n",
        "\r\n",
        "skf = StratifiedKFold(n_splits=10,random_state=50) \r\n",
        "print(skf.split(x, y))\r\n",
        "strtacc = [] \r\n",
        "   \r\n",
        "for train_index, test_index in skf.split(x, y):\r\n",
        "  x_train_fold, x_test_fold = x.take(list(train_index),axis=0), x.take(list(test_index),axis=0)\r\n",
        "  y_train_fold, y_test_fold = y.take(list(train_index),axis=0), y.take(list(test_index),axis=0)\r\n",
        "  clf.fit(x_train_fold, y_train_fold) \r\n",
        "  strtacc.append(clf.score(x_test_fold, y_test_fold)) \r\n",
        "   \r\n"
      ]
    },
    {
      "cell_type": "code",
      "metadata": {
        "colab": {
          "base_uri": "https://localhost:8080/"
        },
        "id": "Uhv3U8DCX5Xw",
        "outputId": "5bf64db1-4b93-4854-889f-1e75af89a799"
      },
      "source": [
        "from sklearn.model_selection import cross_val_score, cross_val_predict\r\n",
        "\r\n",
        "# Perform 10-fold cross validation\r\n",
        "scores = cross_val_score(dummy_clf, x_train , y_train, cv=10)\r\n",
        "print ('Cross-validated scores:', scores)\r\n",
        "\r\n",
        "predictions = cross_val_predict(dummy_clf, x_test, y_test, cv=10)\r\n"
      ],
      "execution_count": 138,
      "outputs": [
        {
          "output_type": "stream",
          "text": [
            "Cross-validated scores: [0.79453718 0.79757208 0.80212443 0.80242792 0.80789074 0.79787557\n",
            " 0.79514416 0.79605463 0.8        0.80030349]\n"
          ],
          "name": "stdout"
        }
      ]
    },
    {
      "cell_type": "code",
      "metadata": {
        "colab": {
          "base_uri": "https://localhost:8080/"
        },
        "id": "7IcoDlD_PGS5",
        "outputId": "62fc575f-79f6-441b-8e1f-ae15141c1864"
      },
      "source": [
        "sorted(sklearn.metrics.SCORERS.keys()) "
      ],
      "execution_count": 30,
      "outputs": [
        {
          "output_type": "execute_result",
          "data": {
            "text/plain": [
              "['accuracy',\n",
              " 'adjusted_mutual_info_score',\n",
              " 'adjusted_rand_score',\n",
              " 'average_precision',\n",
              " 'balanced_accuracy',\n",
              " 'completeness_score',\n",
              " 'explained_variance',\n",
              " 'f1',\n",
              " 'f1_macro',\n",
              " 'f1_micro',\n",
              " 'f1_samples',\n",
              " 'f1_weighted',\n",
              " 'fowlkes_mallows_score',\n",
              " 'homogeneity_score',\n",
              " 'jaccard',\n",
              " 'jaccard_macro',\n",
              " 'jaccard_micro',\n",
              " 'jaccard_samples',\n",
              " 'jaccard_weighted',\n",
              " 'max_error',\n",
              " 'mutual_info_score',\n",
              " 'neg_brier_score',\n",
              " 'neg_log_loss',\n",
              " 'neg_mean_absolute_error',\n",
              " 'neg_mean_gamma_deviance',\n",
              " 'neg_mean_poisson_deviance',\n",
              " 'neg_mean_squared_error',\n",
              " 'neg_mean_squared_log_error',\n",
              " 'neg_median_absolute_error',\n",
              " 'neg_root_mean_squared_error',\n",
              " 'normalized_mutual_info_score',\n",
              " 'precision',\n",
              " 'precision_macro',\n",
              " 'precision_micro',\n",
              " 'precision_samples',\n",
              " 'precision_weighted',\n",
              " 'r2',\n",
              " 'recall',\n",
              " 'recall_macro',\n",
              " 'recall_micro',\n",
              " 'recall_samples',\n",
              " 'recall_weighted',\n",
              " 'roc_auc',\n",
              " 'roc_auc_ovo',\n",
              " 'roc_auc_ovo_weighted',\n",
              " 'roc_auc_ovr',\n",
              " 'roc_auc_ovr_weighted',\n",
              " 'v_measure_score']"
            ]
          },
          "metadata": {
            "tags": []
          },
          "execution_count": 30
        }
      ]
    },
    {
      "cell_type": "code",
      "metadata": {
        "colab": {
          "base_uri": "https://localhost:8080/"
        },
        "id": "lPztrVNiE8BN",
        "outputId": "b66d1f43-c6b4-4612-8784-6045f364ed2c"
      },
      "source": [
        "sklearn.metrics.f1_score(y_test,predictions)"
      ],
      "execution_count": 139,
      "outputs": [
        {
          "output_type": "execute_result",
          "data": {
            "text/plain": [
              "0.12802582033351265"
            ]
          },
          "metadata": {
            "tags": []
          },
          "execution_count": 139
        }
      ]
    },
    {
      "cell_type": "code",
      "metadata": {
        "colab": {
          "base_uri": "https://localhost:8080/"
        },
        "id": "kx83iGhqdDBV",
        "outputId": "b535b764-ec07-45c6-89f6-78ad58efdccb"
      },
      "source": [
        "acc(y_test,predictions),sklearn.metrics.precision_score(y_test,predictions),sklearn.metrics.recall_score(y_test,predictions)"
      ],
      "execution_count": 66,
      "outputs": [
        {
          "output_type": "execute_result",
          "data": {
            "text/plain": [
              "(0.898761835396941, 0.7098214285714286, 0.1713362068965517)"
            ]
          },
          "metadata": {
            "tags": []
          },
          "execution_count": 66
        }
      ]
    },
    {
      "cell_type": "code",
      "metadata": {
        "colab": {
          "base_uri": "https://localhost:8080/"
        },
        "id": "Yp2MoinHf52M",
        "outputId": "fa00837a-f1f1-4bec-a997-3fbd68e9a8be"
      },
      "source": [
        "dummy_clf = DummyClassifier(strategy='stratified')\r\n",
        "dummy_clf.fit(x_train, y_train)\r\n",
        "print(\"Dummy ACC: %.2f\" % acc(y_test, dummy_clf.predict(x_test)))"
      ],
      "execution_count": 137,
      "outputs": [
        {
          "output_type": "stream",
          "text": [
            "Dummy ACC: 0.79\n"
          ],
          "name": "stdout"
        }
      ]
    },
    {
      "cell_type": "code",
      "metadata": {
        "colab": {
          "base_uri": "https://localhost:8080/"
        },
        "id": "TGYVonYHh9v-",
        "outputId": "5e50de19-6dfb-485d-a177-1a066035cbdf"
      },
      "source": [
        "from sklearn.model_selection import GridSearchCV\r\n",
        "#n_estimators=list(range(100, 200))\r\n",
        "n_estimators=[100,125,150,200]\r\n",
        "#max_depth=list(range(10, 100))\r\n",
        "max_depth = [2,4,6,8,10,12,None]\r\n",
        "\r\n",
        "param_grid = {'n_estimators':n_estimators, 'max_features':['auto'],'max_depth':max_depth, 'criterion':['gini','entropy']}\r\n",
        "\r\n",
        "# instantiate the grid\r\n",
        "grid = GridSearchCV(estimator=clf, param_grid=param_grid, cv=10, scoring='accuracy',n_jobs=10)\r\n",
        "\r\n",
        "# fit the grid with data\r\n",
        "grid.fit(x_train, y_train)"
      ],
      "execution_count": 67,
      "outputs": [
        {
          "output_type": "execute_result",
          "data": {
            "text/plain": [
              "GridSearchCV(cv=10, error_score=nan,\n",
              "             estimator=RandomForestClassifier(bootstrap=True, ccp_alpha=0.0,\n",
              "                                              class_weight=None,\n",
              "                                              criterion='gini', max_depth=3,\n",
              "                                              max_features='auto',\n",
              "                                              max_leaf_nodes=None,\n",
              "                                              max_samples=None,\n",
              "                                              min_impurity_decrease=0.0,\n",
              "                                              min_impurity_split=None,\n",
              "                                              min_samples_leaf=1,\n",
              "                                              min_samples_split=2,\n",
              "                                              min_weight_fraction_leaf=0.0,\n",
              "                                              n_estimators=100, n_jobs=None,\n",
              "                                              oob_score=False,\n",
              "                                              random_state=None, verbose=0,\n",
              "                                              warm_start=False),\n",
              "             iid='deprecated', n_jobs=10,\n",
              "             param_grid={'criterion': ['gini', 'entropy'],\n",
              "                         'max_depth': [2, 4, 6, 8, 10, 12, None],\n",
              "                         'max_features': ['auto'],\n",
              "                         'n_estimators': [100, 125, 150, 200]},\n",
              "             pre_dispatch='2*n_jobs', refit=True, return_train_score=False,\n",
              "             scoring='accuracy', verbose=0)"
            ]
          },
          "metadata": {
            "tags": []
          },
          "execution_count": 67
        }
      ]
    },
    {
      "cell_type": "code",
      "metadata": {
        "colab": {
          "base_uri": "https://localhost:8080/"
        },
        "id": "1JaXR5GHi981",
        "outputId": "ab508fdb-1199-4bbf-a983-d377622ba2fe"
      },
      "source": [
        "print(grid.best_score_)\r\n",
        "\r\n",
        "print(grid.best_params_)\r\n",
        "\r\n",
        "print(grid.best_estimator_)"
      ],
      "execution_count": 68,
      "outputs": [
        {
          "output_type": "stream",
          "text": [
            "0.901092564491654\n",
            "{'criterion': 'entropy', 'max_depth': 12, 'max_features': 'auto', 'n_estimators': 125}\n",
            "RandomForestClassifier(bootstrap=True, ccp_alpha=0.0, class_weight=None,\n",
            "                       criterion='entropy', max_depth=12, max_features='auto',\n",
            "                       max_leaf_nodes=None, max_samples=None,\n",
            "                       min_impurity_decrease=0.0, min_impurity_split=None,\n",
            "                       min_samples_leaf=1, min_samples_split=2,\n",
            "                       min_weight_fraction_leaf=0.0, n_estimators=125,\n",
            "                       n_jobs=None, oob_score=False, random_state=None,\n",
            "                       verbose=0, warm_start=False)\n"
          ],
          "name": "stdout"
        }
      ]
    },
    {
      "cell_type": "code",
      "metadata": {
        "colab": {
          "base_uri": "https://localhost:8080/"
        },
        "id": "IkGbEEazkqJO",
        "outputId": "14756382-4983-43f1-e2ac-78af06882025"
      },
      "source": [
        "clf = RandomForestClassifier(n_estimators=125, max_depth=12,criterion='entropy')\r\n",
        "scores = cross_val_score(clf, x_train , y_train, cv=10)\r\n",
        "print ('Cross-validated scores:', scores)\r\n",
        "\r\n",
        "predictions = cross_val_predict(clf, x_test, y_test, cv=10)\r\n",
        "acc(y_test,predictions),sklearn.metrics.precision_score(y_test,predictions),sklearn.metrics.recall_score(y_test,predictions)"
      ],
      "execution_count": 69,
      "outputs": [
        {
          "output_type": "stream",
          "text": [
            "Cross-validated scores: [0.90227618 0.90227618 0.89650986 0.90045524 0.89499241 0.90227618\n",
            " 0.91107739 0.89863429 0.90075873 0.89650986]\n"
          ],
          "name": "stdout"
        },
        {
          "output_type": "execute_result",
          "data": {
            "text/plain": [
              "(0.8994901675163874, 0.6275510204081632, 0.2650862068965517)"
            ]
          },
          "metadata": {
            "tags": []
          },
          "execution_count": 69
        }
      ]
    },
    {
      "cell_type": "code",
      "metadata": {
        "id": "7aF5GSCaA3Gb",
        "outputId": "3d1e195f-bff7-4562-b545-3b565632f37b",
        "colab": {
          "base_uri": "https://localhost:8080/"
        }
      },
      "source": [
        "clf = RandomForestClassifier(n_estimators=250, max_depth=6)\r\n",
        "scores = cross_val_score(clf, x_train , y_train, cv=10)\r\n",
        "print ('Cross-validated scores:', scores)\r\n",
        "\r\n",
        "predictions = cross_val_predict(clf, x_test, y_test, cv=10)\r\n"
      ],
      "execution_count": 123,
      "outputs": [
        {
          "output_type": "stream",
          "text": [
            "Cross-validated scores: [0.89590288 0.90227618 0.89468892 0.90045524 0.89468892 0.90257967\n",
            " 0.90864947 0.89681335 0.89893778 0.89772382]\n"
          ],
          "name": "stdout"
        }
      ]
    },
    {
      "cell_type": "code",
      "metadata": {
        "id": "0xsLOzWkB7yP",
        "outputId": "fa7410f1-a6e1-410c-fed8-d026ee892d1a",
        "colab": {
          "base_uri": "https://localhost:8080/"
        }
      },
      "source": [
        "clf = RandomForestClassifier(n_estimators=750, max_depth=6,random_state=60)\r\n",
        "scores = cross_val_score(clf, x_train , y_train, cv=10)\r\n",
        "print ('Cross-validated scores:', scores)\r\n",
        "\r\n",
        "predictions = cross_val_predict(clf, x_test, y_test, cv=10)\r\n"
      ],
      "execution_count": 131,
      "outputs": [
        {
          "output_type": "stream",
          "text": [
            "Cross-validated scores: [0.89590288 0.90227618 0.89438543 0.90015175 0.89438543 0.90318665\n",
            " 0.91016692 0.89742033 0.89893778 0.89772382]\n"
          ],
          "name": "stdout"
        }
      ]
    },
    {
      "cell_type": "code",
      "metadata": {
        "colab": {
          "base_uri": "https://localhost:8080/"
        },
        "id": "NAq-kiTQqYGh",
        "outputId": "ef78de09-74d5-42b2-afd9-bd35d5878b79"
      },
      "source": [
        "sklearn.metrics.f1_score(y_test,predictions)"
      ],
      "execution_count": 133,
      "outputs": [
        {
          "output_type": "execute_result",
          "data": {
            "text/plain": [
              "0.3031329381879763"
            ]
          },
          "metadata": {
            "tags": []
          },
          "execution_count": 133
        }
      ]
    },
    {
      "cell_type": "code",
      "metadata": {
        "colab": {
          "base_uri": "https://localhost:8080/"
        },
        "id": "k8kRqxTbxodc",
        "outputId": "ce7f341f-6f7d-47d1-e119-67eeba8d34b0"
      },
      "source": [
        "df.columns"
      ],
      "execution_count": 82,
      "outputs": [
        {
          "output_type": "execute_result",
          "data": {
            "text/plain": [
              "Index(['age', 'job', 'marital', 'education', 'default', 'housing', 'loan',\n",
              "       'contact', 'month', 'day_of_week', 'duration', 'campaign', 'pdays',\n",
              "       'previous', 'poutcome', 'emp.var.rate', 'cons.price.idx',\n",
              "       'cons.conf.idx', 'euribor3m', 'nr.employed', 'y'],\n",
              "      dtype='object')"
            ]
          },
          "metadata": {
            "tags": []
          },
          "execution_count": 82
        }
      ]
    },
    {
      "cell_type": "code",
      "metadata": {
        "colab": {
          "base_uri": "https://localhost:8080/"
        },
        "id": "vsX7dmyHyE72",
        "outputId": "f848c9d5-66a9-41b6-bfc7-389c59bbf583"
      },
      "source": [
        "x.columns"
      ],
      "execution_count": 134,
      "outputs": [
        {
          "output_type": "execute_result",
          "data": {
            "text/plain": [
              "Index(['age', 'campaign', 'pdays', 'previous', 'emp.var.rate',\n",
              "       'cons.price.idx', 'cons.conf.idx', 'euribor3m', 'nr.employed', 'admin.',\n",
              "       'blue-collar', 'entrepreneur', 'housemaid', 'management', 'retired',\n",
              "       'self-employed', 'services', 'student', 'technician', 'unemployed',\n",
              "       'unknown', 'divorced', 'married', 'single', 'unknown', 'basic.4y',\n",
              "       'basic.6y', 'basic.9y', 'high.school', 'illiterate',\n",
              "       'professional.course', 'university.degree', 'unknown', 'no', 'unknown',\n",
              "       'yes', 'no', 'unknown', 'yes', 'no', 'unknown', 'yes', 'cellular',\n",
              "       'telephone', 'apr', 'aug', 'dec', 'jul', 'jun', 'mar', 'may', 'nov',\n",
              "       'oct', 'sep', 'fri', 'mon', 'thu', 'tue', 'wed', 'failure',\n",
              "       'nonexistent', 'success'],\n",
              "      dtype='object')"
            ]
          },
          "metadata": {
            "tags": []
          },
          "execution_count": 134
        }
      ]
    },
    {
      "cell_type": "code",
      "metadata": {
        "colab": {
          "base_uri": "https://localhost:8080/",
          "height": 1000
        },
        "id": "vR44tBGBkmyi",
        "outputId": "248010f8-abbe-46a7-e21a-51cb8e744f92"
      },
      "source": [
        "features = ['age', 'campaign', 'pdays', 'previous', 'emp.var.rate',\r\n",
        "       'cons.price.idx', 'cons.conf.idx', 'euribor3m', 'nr.employed', 'admin.',\r\n",
        "       'blue-collar', 'entrepreneur', 'housemaid', 'management', 'retired',\r\n",
        "       'self-employed', 'services', 'student', 'technician', 'unemployed',\r\n",
        "       'unknown', 'divorced', 'married', 'single', 'unknown', 'basic.4y',\r\n",
        "       'basic.6y', 'basic.9y', 'high.school', 'illiterate',\r\n",
        "       'professional.course', 'university.degree', 'unknown', 'no', 'unknown',\r\n",
        "       'yes', 'no', 'unknown', 'yes', 'no', 'unknown', 'yes', 'cellular',\r\n",
        "       'telephone', 'apr', 'aug', 'dec', 'jul', 'jun', 'mar', 'may', 'nov',\r\n",
        "       'oct', 'sep', 'fri', 'mon', 'thu', 'tue', 'wed', 'failure',\r\n",
        "       'nonexistent', 'success']\r\n",
        "\r\n",
        "clf.fit(x_train, y_train)\r\n",
        "importances = clf.feature_importances_\r\n",
        "std = np.std([tree.feature_importances_ for tree in clf.estimators_],\r\n",
        "             axis=0)\r\n",
        "indices = np.argsort(importances)[::-1]\r\n",
        "print(indices)\r\n",
        "\r\n",
        "# Print the feature ranking\r\n",
        "print(\"Feature ranking:\")\r\n",
        "\r\n",
        "for f in range(x.shape[1]):\r\n",
        "    print(\"%d. %s (%f)\" % (f + 1, features[indices[f]],  importances[indices[f]]))\r\n",
        "\r\n",
        "# Plot the feature importances of the forest\r\n",
        "fig = plt.figure()\r\n",
        "plt.title(\"Feature importances\")\r\n",
        "plt.bar(range(x.shape[1]), importances[indices],\r\n",
        "       color=\"r\", yerr=std[indices], align=\"center\")\r\n",
        "plt.xticks(range(x.shape[1]), np.array(features)[indices])\r\n",
        "plt.xlim([-1, x.shape[1]])\r\n",
        "plt.ylim([0, None])\r\n",
        "\r\n",
        "fig.set_size_inches(20,8)\r\n"
      ],
      "execution_count": 135,
      "outputs": [
        {
          "output_type": "stream",
          "text": [
            "[ 8  7  2 61  4  6  5  3  0 60 49 59 52 50 42 43 44 53 48  1 33 55 34 17\n",
            " 10 14 31 45 56 23 46 57 51 47 58 27 54 22 28 18 30 36 38  9 39 41 16 32\n",
            " 25 21 15 20 13 19 26 11 37 40 12 24 29 35]\n",
            "Feature ranking:\n",
            "1. nr.employed (0.187520)\n",
            "2. euribor3m (0.146777)\n",
            "3. pdays (0.114164)\n",
            "4. success (0.099274)\n",
            "5. emp.var.rate (0.085325)\n",
            "6. cons.conf.idx (0.075486)\n",
            "7. cons.price.idx (0.059134)\n",
            "8. previous (0.027865)\n",
            "9. age (0.025772)\n",
            "10. nonexistent (0.019180)\n",
            "11. mar (0.017644)\n",
            "12. failure (0.015765)\n",
            "13. oct (0.015425)\n",
            "14. may (0.013593)\n",
            "15. cellular (0.012608)\n",
            "16. telephone (0.011195)\n",
            "17. apr (0.007116)\n",
            "18. sep (0.005444)\n",
            "19. jun (0.004910)\n",
            "20. campaign (0.004351)\n",
            "21. no (0.003925)\n",
            "22. mon (0.003591)\n",
            "23. unknown (0.003377)\n",
            "24. student (0.003221)\n",
            "25. blue-collar (0.002988)\n",
            "26. retired (0.002521)\n",
            "27. university.degree (0.001995)\n",
            "28. aug (0.001604)\n",
            "29. thu (0.001560)\n",
            "30. single (0.001560)\n",
            "31. dec (0.001473)\n",
            "32. tue (0.001369)\n",
            "33. nov (0.001293)\n",
            "34. jul (0.001291)\n",
            "35. wed (0.001256)\n",
            "36. basic.9y (0.001199)\n",
            "37. fri (0.001174)\n",
            "38. married (0.001143)\n",
            "39. high.school (0.001106)\n",
            "40. technician (0.000915)\n",
            "41. professional.course (0.000900)\n",
            "42. no (0.000897)\n",
            "43. yes (0.000868)\n",
            "44. admin. (0.000867)\n",
            "45. no (0.000844)\n",
            "46. yes (0.000804)\n",
            "47. services (0.000737)\n",
            "48. unknown (0.000710)\n",
            "49. basic.4y (0.000685)\n",
            "50. divorced (0.000685)\n",
            "51. self-employed (0.000656)\n",
            "52. unknown (0.000578)\n",
            "53. management (0.000550)\n",
            "54. unemployed (0.000547)\n",
            "55. basic.6y (0.000542)\n",
            "56. entrepreneur (0.000471)\n",
            "57. unknown (0.000435)\n",
            "58. unknown (0.000419)\n",
            "59. housemaid (0.000394)\n",
            "60. unknown (0.000233)\n",
            "61. illiterate (0.000069)\n",
            "62. yes (0.000000)\n"
          ],
          "name": "stdout"
        },
        {
          "output_type": "display_data",
          "data": {
            "image/png": "[encoded data removed]",
            "text/plain": [
              "<Figure size 1440x576 with 1 Axes>"
            ]
          },
          "metadata": {
            "tags": [],
            "needs_background": "light"
          }
        }
      ]
    }
  ]
}