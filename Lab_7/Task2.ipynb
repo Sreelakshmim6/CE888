{
  "nbformat": 4,
  "nbformat_minor": 0,
  "metadata": {
    "colab": {
      "name": "Task2.ipynb",
      "provenance": [],
      "collapsed_sections": [],
      "include_colab_link": true
    },
    "kernelspec": {
      "name": "python3",
      "display_name": "Python 3"
    }
  },
  "cells": [
    {
      "cell_type": "markdown",
      "metadata": {
        "id": "view-in-github",
        "colab_type": "text"
      },
      "source": [
        "<a href=\"https://colab.research.google.com/github/Sreelakshmim6/CE888/blob/main/Lab_7/Task2.ipynb\" target=\"_parent\"><img src=\"https://colab.research.google.com/assets/colab-badge.svg\" alt=\"Open In Colab\"/></a>"
      ]
    },
    {
      "cell_type": "markdown",
      "metadata": {
        "id": "qTh9DiKVslsJ"
      },
      "source": [
        "## Dogs vs. Cats \n",
        "\n",
        "In this competition, you'll write an algorithm to classify whether images contain either a dog or a cat.  This is easy for humans, dogs, and cats. Your computer will find it a bit more difficult.\n",
        "\n",
        "![alt text](https://miro.medium.com/max/3000/1*bhFifratH9DjKqMBTeQG5A.gif)\n",
        "\n",
        "Ref: https://medium.com/@thegrigorian/rolling-in-the-deep-cnn-c8d3f7108c8c"
      ]
    },
    {
      "cell_type": "markdown",
      "metadata": {
        "id": "RSBI-_mSSY1g"
      },
      "source": [
        "Get your API Key from Kaggle using following steps:\n",
        "1. Login to [Kaggle](https://www.kaggle.com/) or Register if you don't have account\n",
        "2. Open Dataset (https://www.kaggle.com/c/dogs-vs-cats/rules) and accept terms and condition. \n",
        "3. On the top right corner click on your Icon and go to accounts and press a button \"Create New API Token\". It will download a JSON file containing your username and key. \n",
        "4. Now, paste both below. \n"
      ]
    },
    {
      "cell_type": "code",
      "metadata": {
        "id": "YmXSOc0tZIGA",
        "colab": {
          "base_uri": "https://localhost:8080/"
        },
        "outputId": "f31abbec-9e00-4f0b-8a75-583e65c2e6b7"
      },
      "source": [
        "import os\n",
        "os.environ['KAGGLE_USERNAME'] = \"sreelakshmim6\" # username from the json file\n",
        "os.environ['KAGGLE_KEY'] = \"28f34fc962887e68947214b14033ea45\" # key from the json file\n",
        "!kaggle competitions download -c dogs-vs-cats # api copied from kaggle (https://www.kaggle.com/c/dogs-vs-cats/data)"
      ],
      "execution_count": null,
      "outputs": [
        {
          "output_type": "stream",
          "text": [
            "Warning: Looks like you're using an outdated API Version, please consider updating (server 1.5.12 / client 1.5.4)\n",
            "Downloading sampleSubmission.csv to /content\n",
            "  0% 0.00/86.8k [00:00<?, ?B/s]\n",
            "100% 86.8k/86.8k [00:00<00:00, 32.7MB/s]\n",
            "Downloading test1.zip to /content\n",
            " 95% 257M/271M [00:02<00:00, 116MB/s]\n",
            "100% 271M/271M [00:02<00:00, 102MB/s]\n",
            "Downloading train.zip to /content\n",
            " 97% 526M/543M [00:03<00:00, 143MB/s]\n",
            "100% 543M/543M [00:03<00:00, 168MB/s]\n"
          ],
          "name": "stdout"
        }
      ]
    },
    {
      "cell_type": "code",
      "metadata": {
        "id": "PiwIL8d1n7eS",
        "colab": {
          "base_uri": "https://localhost:8080/"
        },
        "outputId": "23fe73b8-4e32-434b-dc11-5284325bacd1"
      },
      "source": [
        "# Unzip training data\n",
        "from zipfile import ZipFile\n",
        "file_name = \"/content/train.zip\"\n",
        "with ZipFile(file_name, 'r') as zip:\n",
        "  zip.extractall()\n",
        "  print('done')"
      ],
      "execution_count": null,
      "outputs": [
        {
          "output_type": "stream",
          "text": [
            "done\n"
          ],
          "name": "stdout"
        }
      ]
    },
    {
      "cell_type": "code",
      "metadata": {
        "id": "sa2Bj5i7pPKV",
        "colab": {
          "base_uri": "https://localhost:8080/"
        },
        "outputId": "d4be9951-4a32-4340-dd85-e978afd5ee66"
      },
      "source": [
        "# Get all the paths\n",
        "data_dir_list = os.listdir('/content/train')\n",
        "#print(data_dir_list)\n",
        "path, dirs, files = next(os.walk(\"/content/train\"))\n",
        "file_count = len(files)\n",
        "print(file_count)"
      ],
      "execution_count": null,
      "outputs": [
        {
          "output_type": "stream",
          "text": [
            "25000\n"
          ],
          "name": "stdout"
        }
      ]
    },
    {
      "cell_type": "code",
      "metadata": {
        "id": "0ERlHkfHqpK8"
      },
      "source": [
        "# Make new base directory\n",
        "original_dataset_dir = '/content/train'\n",
        "base_dir = '/content/cats_and_dogs_small'\n",
        "os.mkdir(base_dir)"
      ],
      "execution_count": null,
      "outputs": []
    },
    {
      "cell_type": "code",
      "metadata": {
        "id": "AANB1UJ6rQhM"
      },
      "source": [
        "train_dir = os.path.join(base_dir, 'train')\n",
        "os.mkdir(train_dir)\n",
        "\n",
        "validation_dir = os.path.join(base_dir, 'validation')\n",
        "os.mkdir(validation_dir)\n",
        "\n",
        "test_dir = os.path.join(base_dir, 'test')\n",
        "os.mkdir(test_dir)\n",
        "\n",
        "train_cats_dir = os.path.join(train_dir, 'cats')\n",
        "os.mkdir(train_cats_dir)\n",
        "\n",
        "train_dogs_dir = os.path.join(train_dir, 'dogs')\n",
        "os.mkdir(train_dogs_dir)\n",
        "\n",
        "validation_cats_dir = os.path.join(validation_dir, 'cats')\n",
        "os.mkdir(validation_cats_dir)\n",
        "\n",
        "validation_dogs_dir = os.path.join(validation_dir, 'dogs')\n",
        "os.mkdir(validation_dogs_dir)\n",
        "\n",
        "test_cats_dir = os.path.join(test_dir, 'cats')\n",
        "os.mkdir(test_cats_dir)\n",
        "\n",
        "test_dogs_dir = os.path.join(test_dir, 'dogs')\n",
        "os.mkdir(test_dogs_dir)"
      ],
      "execution_count": null,
      "outputs": []
    },
    {
      "cell_type": "code",
      "metadata": {
        "id": "ULRgL9s9rV8T"
      },
      "source": [
        "import shutil\n",
        "fnames = ['cat.{}.jpg'.format(i) for i in range(1000)]\n",
        "for fname in fnames:\n",
        "    src = os.path.join(original_dataset_dir, fname)\n",
        "    dst = os.path.join(train_cats_dir, fname)\n",
        "    #print(src,dst)\n",
        "    shutil.copyfile(src, dst)\n",
        "    \n",
        "fnames = ['cat.{}.jpg'.format(i) for i in range(1000, 1500)]\n",
        "for fname in fnames:\n",
        "    src = os.path.join(original_dataset_dir, fname)\n",
        "    dst = os.path.join(validation_cats_dir, fname)\n",
        "    shutil.copyfile(src, dst)\n",
        "\n",
        "fnames = ['cat.{}.jpg'.format(i) for i in range(1500, 2000)]\n",
        "for fname in fnames:\n",
        "    src = os.path.join(original_dataset_dir, fname)\n",
        "    dst = os.path.join(test_cats_dir, fname)\n",
        "    shutil.copyfile(src, dst)\n",
        "    \n",
        "fnames = ['dog.{}.jpg'.format(i) for i in range(1000)]\n",
        "for fname in fnames:\n",
        "    src = os.path.join(original_dataset_dir, fname)\n",
        "    dst = os.path.join(train_dogs_dir, fname)\n",
        "    shutil.copyfile(src, dst)\n",
        "\n",
        "fnames = ['dog.{}.jpg'.format(i) for i in range(1000, 1500)]\n",
        "for fname in fnames:\n",
        "    src = os.path.join(original_dataset_dir, fname)\n",
        "    dst = os.path.join(validation_dogs_dir, fname)\n",
        "    shutil.copyfile(src, dst)\n",
        "\n",
        "fnames = ['dog.{}.jpg'.format(i) for i in range(1500, 2000)]\n",
        "for fname in fnames:\n",
        "    src = os.path.join(original_dataset_dir, fname)\n",
        "    dst = os.path.join(test_dogs_dir, fname)\n",
        "    shutil.copyfile(src, dst)"
      ],
      "execution_count": null,
      "outputs": []
    },
    {
      "cell_type": "code",
      "metadata": {
        "id": "ul3XAbIyr7vC",
        "colab": {
          "base_uri": "https://localhost:8080/"
        },
        "outputId": "0a43ac4c-a71b-4ef6-c8b5-59d451a06c1e"
      },
      "source": [
        "print('total training cat images:', len(os.listdir(train_cats_dir)))\n",
        "print('total training dog images:', len(os.listdir(train_dogs_dir)))\n",
        "print('total validation cat images:', len(os.listdir(validation_cats_dir)))\n",
        "\n",
        "print('total validation dog images:', len(os.listdir(validation_dogs_dir)))\n",
        "print('total test cat images:', len(os.listdir(test_cats_dir)))\n",
        "print('total test dog images:', len(os.listdir(test_dogs_dir)))"
      ],
      "execution_count": null,
      "outputs": [
        {
          "output_type": "stream",
          "text": [
            "total training cat images: 1000\n",
            "total training dog images: 1000\n",
            "total validation cat images: 500\n",
            "total validation dog images: 500\n",
            "total test cat images: 500\n",
            "total test dog images: 500\n"
          ],
          "name": "stdout"
        }
      ]
    },
    {
      "cell_type": "code",
      "metadata": {
        "id": "o9yTA21_r-ma",
        "colab": {
          "base_uri": "https://localhost:8080/"
        },
        "outputId": "ab107dcf-8e51-4b65-9841-86bed62f1e55"
      },
      "source": [
        "from keras import layers\n",
        "from keras import models\n",
        "\n",
        "model = models.Sequential()\n",
        "model.add(layers.Conv2D(32, (3, 3), activation='relu', input_shape=(150, 150, 3)))\n",
        "model.add(layers.MaxPooling2D((2, 2)))\n",
        "model.add(layers.Conv2D(64, (3, 3), activation='relu'))\n",
        "model.add(layers.MaxPooling2D((2, 2)))\n",
        "model.add(layers.Conv2D(128, (3, 3), activation='relu'))\n",
        "model.add(layers.MaxPooling2D((2, 2)))\n",
        "model.add(layers.Conv2D(128, (3, 3), activation='relu'))\n",
        "model.add(layers.MaxPooling2D((2, 2)))\n",
        "model.add(layers.Flatten())\n",
        "model.add(layers.Dense(512, activation='relu'))\n",
        "model.add(layers.Dense(1, activation='sigmoid'))\n",
        "model.summary()"
      ],
      "execution_count": null,
      "outputs": [
        {
          "output_type": "stream",
          "text": [
            "Model: \"sequential\"\n",
            "_________________________________________________________________\n",
            "Layer (type)                 Output Shape              Param #   \n",
            "=================================================================\n",
            "conv2d (Conv2D)              (None, 148, 148, 32)      896       \n",
            "_________________________________________________________________\n",
            "max_pooling2d (MaxPooling2D) (None, 74, 74, 32)        0         \n",
            "_________________________________________________________________\n",
            "conv2d_1 (Conv2D)            (None, 72, 72, 64)        18496     \n",
            "_________________________________________________________________\n",
            "max_pooling2d_1 (MaxPooling2 (None, 36, 36, 64)        0         \n",
            "_________________________________________________________________\n",
            "conv2d_2 (Conv2D)            (None, 34, 34, 128)       73856     \n",
            "_________________________________________________________________\n",
            "max_pooling2d_2 (MaxPooling2 (None, 17, 17, 128)       0         \n",
            "_________________________________________________________________\n",
            "conv2d_3 (Conv2D)            (None, 15, 15, 128)       147584    \n",
            "_________________________________________________________________\n",
            "max_pooling2d_3 (MaxPooling2 (None, 7, 7, 128)         0         \n",
            "_________________________________________________________________\n",
            "flatten (Flatten)            (None, 6272)              0         \n",
            "_________________________________________________________________\n",
            "dense (Dense)                (None, 512)               3211776   \n",
            "_________________________________________________________________\n",
            "dense_1 (Dense)              (None, 1)                 513       \n",
            "=================================================================\n",
            "Total params: 3,453,121\n",
            "Trainable params: 3,453,121\n",
            "Non-trainable params: 0\n",
            "_________________________________________________________________\n"
          ],
          "name": "stdout"
        }
      ]
    },
    {
      "cell_type": "code",
      "metadata": {
        "id": "2mG8wekxsBVS"
      },
      "source": [
        "from keras import optimizers\n",
        "model.compile(loss='binary_crossentropy', \n",
        "              optimizer=optimizers.RMSprop(lr=1e-4),\n",
        "              metrics=['acc'])"
      ],
      "execution_count": null,
      "outputs": []
    },
    {
      "cell_type": "code",
      "metadata": {
        "id": "uI566_bqVH8s"
      },
      "source": [
        ""
      ],
      "execution_count": null,
      "outputs": []
    },
    {
      "cell_type": "markdown",
      "metadata": {
        "id": "7zS4Klm8qWp6"
      },
      "source": [
        "## Using ImageDataGenerator to read images from directories\n",
        "As you know by now, data should be formatted into appropriately preprocessed floatingpoint tensors before being fed into the network. Currently, the data sits on a drive as JPEG files, so the steps for getting it into the network are roughly as follows:\n",
        "\n",
        "* Read the picture files.\n",
        "* Decode the JPEG content to RGB grids of pixels.\n",
        "* Convert these into floating-point tensors.\n",
        "* Rescale the pixel values (between 0 and 255) to the [0, 1] interval (as you know, neural networks prefer to deal with small input values).\n",
        "\n",
        "It may seem a bit daunting, but fortunately Keras has utilities to take care of these steps automatically. Keras has a module with image-processing helper tools, located at keras.preprocessing.image. In particular, it contains the class ImageDataGenerator,which lets you quickly set up Python generators that can automatically turn image files on disk into batches of preprocessed tensors."
      ]
    },
    {
      "cell_type": "code",
      "metadata": {
        "id": "XJ7XU7t9sEh6",
        "colab": {
          "base_uri": "https://localhost:8080/"
        },
        "outputId": "be7e9a76-ce65-4574-bf95-58c2584f89b0"
      },
      "source": [
        "from keras.preprocessing.image import ImageDataGenerator\n",
        "\n",
        "train_datagen = ImageDataGenerator(rescale=1./255)\n",
        "test_datagen = ImageDataGenerator(rescale=1./255)\n",
        "\n",
        "train_generator = train_datagen.flow_from_directory(train_dir,\n",
        "                                                    target_size=(150, 150), \n",
        "                                                    batch_size=20,\n",
        "                                                    class_mode='binary')\n",
        "\n",
        "validation_generator = test_datagen.flow_from_directory(validation_dir,\n",
        "                                                        target_size=(150, 150),\n",
        "                                                        batch_size=20,\n",
        "                                                        class_mode='binary')"
      ],
      "execution_count": null,
      "outputs": [
        {
          "output_type": "stream",
          "text": [
            "Found 2000 images belonging to 2 classes.\n",
            "Found 1000 images belonging to 2 classes.\n"
          ],
          "name": "stdout"
        }
      ]
    },
    {
      "cell_type": "markdown",
      "metadata": {
        "id": "SEgLywySqm4u"
      },
      "source": [
        "Let’s fit the model to the data using the generator. You do so using the fit_generator method, the equivalent of fit for data generators like this one. It expects as its first argument a Python generator that will yield batches of inputs and targets indefinitely,like this one does. Because the data is being generated endlessly, the Keras model needs to know how many samples to draw from the generator before declaring anepoch over. This is the role of the `steps_per_epoch` argument: after having drawn `steps_per_epoch` batches from the generator—that is, after having run for `steps_per_epoch` gradient descent steps—the fitting process will go to the next epoch. In this case, batches are 20 samples, so it will take 100 batches until you see your target of 2,000 samples.\n",
        "\n",
        "When using fit_generator, you can pass a validation_data argument, much as with the fit method. It’s important to note that this argument is allowed to be a data generator, but it could also be a tuple of Numpy arrays. If you pass a generator as validation_data, then this generator is expected to yield batches of validation data endlessly; thus you should also specify the validation_steps argument, which tells the process how many batches to draw from the validation generator for evaluation."
      ]
    },
    {
      "cell_type": "code",
      "metadata": {
        "id": "YRQEcEm8VGHG"
      },
      "source": [
        ""
      ],
      "execution_count": null,
      "outputs": []
    },
    {
      "cell_type": "code",
      "metadata": {
        "id": "yMyfPphJsJG6",
        "colab": {
          "base_uri": "https://localhost:8080/"
        },
        "outputId": "827e7874-d93b-49be-83c4-d9e5eb110176"
      },
      "source": [
        "history = model.fit_generator(train_generator,\n",
        "                              steps_per_epoch=100,\n",
        "                              epochs=30,\n",
        "                              validation_data=validation_generator,\n",
        "                              validation_steps=10)"
      ],
      "execution_count": null,
      "outputs": [
        {
          "output_type": "stream",
          "text": [
            "/usr/local/lib/python3.7/dist-packages/tensorflow/python/keras/engine/training.py:1844: UserWarning: `Model.fit_generator` is deprecated and will be removed in a future version. Please use `Model.fit`, which supports generators.\n",
            "  warnings.warn('`Model.fit_generator` is deprecated and '\n"
          ],
          "name": "stderr"
        },
        {
          "output_type": "stream",
          "text": [
            "Epoch 1/30\n",
            "100/100 [==============================] - 99s 980ms/step - loss: 0.6975 - acc: 0.5237 - val_loss: 0.6762 - val_acc: 0.5650\n",
            "Epoch 2/30\n",
            "100/100 [==============================] - 96s 961ms/step - loss: 0.6613 - acc: 0.6068 - val_loss: 0.6485 - val_acc: 0.6100\n",
            "Epoch 3/30\n",
            "100/100 [==============================] - 97s 969ms/step - loss: 0.6073 - acc: 0.6549 - val_loss: 0.5900 - val_acc: 0.6650\n",
            "Epoch 4/30\n",
            "100/100 [==============================] - 98s 980ms/step - loss: 0.5749 - acc: 0.7077 - val_loss: 0.5997 - val_acc: 0.6450\n",
            "Epoch 5/30\n",
            "100/100 [==============================] - 98s 976ms/step - loss: 0.5493 - acc: 0.7174 - val_loss: 0.5717 - val_acc: 0.7050\n",
            "Epoch 6/30\n",
            "100/100 [==============================] - 101s 1s/step - loss: 0.5005 - acc: 0.7416 - val_loss: 0.5197 - val_acc: 0.7400\n",
            "Epoch 7/30\n",
            "100/100 [==============================] - 95s 949ms/step - loss: 0.4895 - acc: 0.7648 - val_loss: 0.5280 - val_acc: 0.7200\n",
            "Epoch 8/30\n",
            "100/100 [==============================] - 95s 952ms/step - loss: 0.4592 - acc: 0.7737 - val_loss: 0.7238 - val_acc: 0.6450\n",
            "Epoch 9/30\n",
            "100/100 [==============================] - 97s 970ms/step - loss: 0.4235 - acc: 0.8092 - val_loss: 0.4931 - val_acc: 0.7850\n",
            "Epoch 10/30\n",
            "100/100 [==============================] - 96s 959ms/step - loss: 0.4192 - acc: 0.8033 - val_loss: 0.5599 - val_acc: 0.7000\n",
            "Epoch 11/30\n",
            "100/100 [==============================] - 97s 972ms/step - loss: 0.3820 - acc: 0.8276 - val_loss: 0.5176 - val_acc: 0.7500\n",
            "Epoch 12/30\n",
            "100/100 [==============================] - 101s 1s/step - loss: 0.3668 - acc: 0.8480 - val_loss: 0.5582 - val_acc: 0.7200\n",
            "Epoch 13/30\n",
            "100/100 [==============================] - 97s 967ms/step - loss: 0.3045 - acc: 0.8656 - val_loss: 0.5513 - val_acc: 0.7100\n",
            "Epoch 14/30\n",
            "100/100 [==============================] - 99s 991ms/step - loss: 0.3213 - acc: 0.8541 - val_loss: 0.5806 - val_acc: 0.7700\n",
            "Epoch 15/30\n",
            "100/100 [==============================] - 100s 997ms/step - loss: 0.2595 - acc: 0.8969 - val_loss: 0.6335 - val_acc: 0.6650\n",
            "Epoch 16/30\n",
            "100/100 [==============================] - 100s 1s/step - loss: 0.2414 - acc: 0.9149 - val_loss: 0.5372 - val_acc: 0.7150\n",
            "Epoch 17/30\n",
            "100/100 [==============================] - 99s 994ms/step - loss: 0.2193 - acc: 0.9206 - val_loss: 0.4682 - val_acc: 0.8300\n",
            "Epoch 18/30\n",
            "100/100 [==============================] - 98s 984ms/step - loss: 0.2047 - acc: 0.9281 - val_loss: 0.4962 - val_acc: 0.7750\n",
            "Epoch 19/30\n",
            "100/100 [==============================] - 102s 1s/step - loss: 0.1885 - acc: 0.9358 - val_loss: 0.6498 - val_acc: 0.7250\n",
            "Epoch 20/30\n",
            "100/100 [==============================] - 105s 1s/step - loss: 0.1487 - acc: 0.9524 - val_loss: 0.7003 - val_acc: 0.7300\n",
            "Epoch 21/30\n",
            "100/100 [==============================] - 99s 991ms/step - loss: 0.1549 - acc: 0.9466 - val_loss: 0.6867 - val_acc: 0.7500\n",
            "Epoch 22/30\n",
            "100/100 [==============================] - 101s 1s/step - loss: 0.1375 - acc: 0.9610 - val_loss: 0.6388 - val_acc: 0.7950\n",
            "Epoch 23/30\n",
            "100/100 [==============================] - 99s 988ms/step - loss: 0.1082 - acc: 0.9687 - val_loss: 0.6039 - val_acc: 0.7750\n",
            "Epoch 24/30\n",
            "100/100 [==============================] - 100s 997ms/step - loss: 0.0974 - acc: 0.9702 - val_loss: 0.7035 - val_acc: 0.7250\n",
            "Epoch 25/30\n",
            "100/100 [==============================] - 95s 950ms/step - loss: 0.0796 - acc: 0.9792 - val_loss: 0.8367 - val_acc: 0.6900\n",
            "Epoch 26/30\n",
            "100/100 [==============================] - 99s 985ms/step - loss: 0.0751 - acc: 0.9768 - val_loss: 0.9482 - val_acc: 0.7100\n",
            "Epoch 27/30\n",
            "100/100 [==============================] - 104s 1s/step - loss: 0.0684 - acc: 0.9813 - val_loss: 0.8968 - val_acc: 0.7500\n",
            "Epoch 28/30\n",
            "100/100 [==============================] - 105s 1s/step - loss: 0.0476 - acc: 0.9898 - val_loss: 0.7422 - val_acc: 0.7600\n",
            "Epoch 29/30\n",
            "100/100 [==============================] - 103s 1s/step - loss: 0.0432 - acc: 0.9889 - val_loss: 0.9357 - val_acc: 0.7200\n",
            "Epoch 30/30\n",
            "100/100 [==============================] - 100s 1000ms/step - loss: 0.0436 - acc: 0.9924 - val_loss: 0.8352 - val_acc: 0.7500\n"
          ],
          "name": "stdout"
        }
      ]
    },
    {
      "cell_type": "code",
      "metadata": {
        "id": "MZaZ2HWZsNUi",
        "colab": {
          "base_uri": "https://localhost:8080/",
          "height": 545
        },
        "outputId": "80743041-d93c-499a-c2d9-20eb99cd92d1"
      },
      "source": [
        "model.save('cats_and_dogs_small_1.h5')\n",
        "\n",
        "import matplotlib.pyplot as plt\n",
        "\n",
        "acc = history.history['acc']\n",
        "val_acc = history.history['val_acc']\n",
        "loss = history.history['loss']\n",
        "val_loss = history.history['val_loss']\n",
        "\n",
        "epochs = range(1, len(acc) + 1)\n",
        "\n",
        "plt.plot(epochs, acc, 'bo', label='Training acc')\n",
        "plt.plot(epochs, val_acc, 'b', label='Validation acc')\n",
        "plt.title('Training and validation accuracy')\n",
        "plt.legend()\n",
        "\n",
        "plt.figure()\n",
        "\n",
        "plt.plot(epochs, loss, 'bo', label='Training loss')\n",
        "plt.plot(epochs, val_loss, 'b', label='Validation loss')\n",
        "plt.title('Training and validation loss')\n",
        "plt.legend()\n",
        "\n",
        "plt.show()"
      ],
      "execution_count": null,
      "outputs": [
        {
          "output_type": "display_data",
          "data": {
            "image/png": "[encoded data removed]",
            "text/plain": [
              "<Figure size 432x288 with 1 Axes>"
            ]
          },
          "metadata": {
            "tags": [],
            "needs_background": "light"
          }
        },
        {
          "output_type": "display_data",
          "data": {
            "image/png": "[encoded data removed]",
            "text/plain": [
              "<Figure size 432x288 with 1 Axes>"
            ]
          },
          "metadata": {
            "tags": [],
            "needs_background": "light"
          }
        }
      ]
    },
    {
      "cell_type": "markdown",
      "metadata": {
        "id": "XKZmXmBcq_8-"
      },
      "source": [
        "## Convolutional Networks with Dropout\n",
        "\n",
        "![alt text](https://camo.githubusercontent.com/ee6fa1073247cd2c3d241300caf110d7a7541bc5/68747470733a2f2f63646e2d696d616765732d312e6d656469756d2e636f6d2f6d61782f3830302f312a4972644a355067684439596f4f7956415137334d4a772e676966)\n",
        "\n",
        "Ref: https://github.com/mneha4/Training-Neural-Nets---Guidelines"
      ]
    },
    {
      "cell_type": "code",
      "metadata": {
        "id": "wu3cqeYQrDeN"
      },
      "source": [
        "model = models.Sequential()\n",
        "model.add(layers.Conv2D(32, (3, 3), activation='relu',\n",
        "input_shape=(150, 150, 3)))\n",
        "model.add(layers.MaxPooling2D((2, 2)))\n",
        "model.add(layers.Conv2D(64, (3, 3), activation='relu'))\n",
        "model.add(layers.MaxPooling2D((2, 2)))\n",
        "model.add(layers.Conv2D(128, (3, 3), activation='relu'))\n",
        "model.add(layers.MaxPooling2D((2, 2)))\n",
        "model.add(layers.Conv2D(128, (3, 3), activation='relu'))\n",
        "model.add(layers.MaxPooling2D((2, 2)))\n",
        "model.add(layers.Flatten())\n",
        "model.add(layers.Dropout(0.5))\n",
        "model.add(layers.Dense(512, activation='relu'))\n",
        "model.add(layers.Dense(1, activation='sigmoid'))\n",
        "\n",
        "model.compile(loss='binary_crossentropy',\n",
        "              optimizer=optimizers.RMSprop(lr=1e-4),\n",
        "              metrics=['acc'])"
      ],
      "execution_count": null,
      "outputs": []
    },
    {
      "cell_type": "code",
      "metadata": {
        "id": "QSeLpvY0rH7F",
        "colab": {
          "base_uri": "https://localhost:8080/"
        },
        "outputId": "52bfd54e-2b94-42ac-ead0-8857929c0625"
      },
      "source": [
        "train_datagen = ImageDataGenerator(rescale=1./255,\n",
        "                                   rotation_range=40,\n",
        "                                   width_shift_range=0.2,\n",
        "                                   height_shift_range=0.2,\n",
        "                                   shear_range=0.2,\n",
        "                                   zoom_range=0.2,\n",
        "                                   horizontal_flip=True)\n",
        "\n",
        "test_datagen = ImageDataGenerator(rescale=1./255)\n",
        "\n",
        "train_generator = train_datagen.flow_from_directory(train_dir,\n",
        "                                                    target_size=(150, 150),\n",
        "                                                    batch_size=20,\n",
        "                                                    class_mode='binary')\n",
        "\n",
        "validation_generator = test_datagen.flow_from_directory(validation_dir,\n",
        "                                                        target_size=(150, 150),\n",
        "                                                        batch_size=20,\n",
        "                                                        class_mode='binary')\n",
        "\n",
        "\n",
        "\n",
        "history = model.fit_generator(train_generator,\n",
        "                              steps_per_epoch=100,\n",
        "                              epochs=20,\n",
        "                              validation_data=validation_generator,\n",
        "                              validation_steps=50)"
      ],
      "execution_count": null,
      "outputs": [
        {
          "output_type": "stream",
          "text": [
            "Found 2000 images belonging to 2 classes.\n",
            "Found 1000 images belonging to 2 classes.\n"
          ],
          "name": "stdout"
        },
        {
          "output_type": "stream",
          "text": [
            "/usr/local/lib/python3.7/dist-packages/tensorflow/python/keras/engine/training.py:1844: UserWarning: `Model.fit_generator` is deprecated and will be removed in a future version. Please use `Model.fit`, which supports generators.\n",
            "  warnings.warn('`Model.fit_generator` is deprecated and '\n"
          ],
          "name": "stderr"
        },
        {
          "output_type": "stream",
          "text": [
            "Epoch 1/20\n",
            "100/100 [==============================] - 117s 1s/step - loss: 0.6949 - acc: 0.4982 - val_loss: 0.7097 - val_acc: 0.5000\n",
            "Epoch 2/20\n",
            "100/100 [==============================] - 121s 1s/step - loss: 0.6852 - acc: 0.5401 - val_loss: 0.6614 - val_acc: 0.5870\n",
            "Epoch 3/20\n",
            "100/100 [==============================] - 117s 1s/step - loss: 0.6696 - acc: 0.5916 - val_loss: 0.6628 - val_acc: 0.5770\n",
            "Epoch 4/20\n",
            "100/100 [==============================] - 114s 1s/step - loss: 0.6657 - acc: 0.5752 - val_loss: 0.6665 - val_acc: 0.5910\n",
            "Epoch 5/20\n",
            "100/100 [==============================] - 116s 1s/step - loss: 0.6607 - acc: 0.5929 - val_loss: 0.6137 - val_acc: 0.6440\n",
            "Epoch 6/20\n",
            "100/100 [==============================] - 120s 1s/step - loss: 0.6302 - acc: 0.6394 - val_loss: 0.6103 - val_acc: 0.6500\n",
            "Epoch 7/20\n",
            "100/100 [==============================] - 117s 1s/step - loss: 0.6146 - acc: 0.6581 - val_loss: 0.5827 - val_acc: 0.6740\n",
            "Epoch 8/20\n",
            "100/100 [==============================] - 113s 1s/step - loss: 0.6178 - acc: 0.6544 - val_loss: 0.6020 - val_acc: 0.6490\n",
            "Epoch 9/20\n",
            "100/100 [==============================] - 112s 1s/step - loss: 0.5973 - acc: 0.6704 - val_loss: 0.5814 - val_acc: 0.6840\n",
            "Epoch 10/20\n",
            "100/100 [==============================] - 114s 1s/step - loss: 0.5866 - acc: 0.6910 - val_loss: 0.6155 - val_acc: 0.6440\n",
            "Epoch 11/20\n",
            "100/100 [==============================] - 118s 1s/step - loss: 0.5947 - acc: 0.6802 - val_loss: 0.5554 - val_acc: 0.7030\n",
            "Epoch 12/20\n",
            "100/100 [==============================] - 112s 1s/step - loss: 0.5893 - acc: 0.6873 - val_loss: 0.7414 - val_acc: 0.6080\n",
            "Epoch 13/20\n",
            "100/100 [==============================] - 112s 1s/step - loss: 0.5907 - acc: 0.6812 - val_loss: 0.5449 - val_acc: 0.7130\n",
            "Epoch 14/20\n",
            "100/100 [==============================] - 116s 1s/step - loss: 0.5603 - acc: 0.7130 - val_loss: 0.5566 - val_acc: 0.7070\n",
            "Epoch 15/20\n",
            "100/100 [==============================] - 114s 1s/step - loss: 0.5690 - acc: 0.7081 - val_loss: 0.5938 - val_acc: 0.6780\n",
            "Epoch 16/20\n",
            "100/100 [==============================] - 113s 1s/step - loss: 0.5621 - acc: 0.7036 - val_loss: 0.5558 - val_acc: 0.7070\n",
            "Epoch 17/20\n",
            "100/100 [==============================] - 113s 1s/step - loss: 0.5516 - acc: 0.7282 - val_loss: 0.5548 - val_acc: 0.7030\n",
            "Epoch 18/20\n",
            "100/100 [==============================] - 112s 1s/step - loss: 0.5699 - acc: 0.7094 - val_loss: 0.5338 - val_acc: 0.7370\n",
            "Epoch 19/20\n",
            "100/100 [==============================] - 112s 1s/step - loss: 0.5712 - acc: 0.7085 - val_loss: 0.5198 - val_acc: 0.7330\n",
            "Epoch 20/20\n",
            "100/100 [==============================] - 112s 1s/step - loss: 0.5536 - acc: 0.7149 - val_loss: 0.5474 - val_acc: 0.7180\n"
          ],
          "name": "stdout"
        }
      ]
    },
    {
      "cell_type": "markdown",
      "metadata": {
        "id": "BRdU5yrkUF_b"
      },
      "source": [
        "# Task 2:\n",
        "\n",
        "We have used Dropout to enhance the performance of the CNN model. Can you please use whatever you like to further enhance the performance from `val_acc: 0.7506`? "
      ]
    },
    {
      "cell_type": "code",
      "metadata": {
        "id": "_ZqLfrURTG8L"
      },
      "source": [
        "model = models.Sequential()\n",
        "model.add(layers.Conv2D(32, (3, 3), activation='relu',\n",
        "input_shape=(150, 150, 3)))\n",
        "model.add(layers.MaxPooling2D((2, 2)))\n",
        "#model.add(layers.Conv2D(64, (3, 3), activation='relu'))\n",
        "#model.add(layers.MaxPooling2D((2, 2)))\n",
        "model.add(layers.Conv2D(128, (3, 3), activation='relu'))\n",
        "model.add(layers.MaxPooling2D((2, 2)))\n",
        "model.add(layers.Conv2D(128, (3, 3), activation='relu'))\n",
        "model.add(layers.MaxPooling2D((2, 2)))\n",
        "model.add(layers.Flatten())\n",
        "model.add(layers.Dropout(0.5))\n",
        "model.add(layers.Dense(512, activation='relu'))\n",
        "model.add(layers.Dense(1, activation='sigmoid'))\n",
        "\n",
        "\n",
        "model.compile(loss='binary_crossentropy',\n",
        "              optimizer='RMSprop',\n",
        "              metrics=['acc'])"
      ],
      "execution_count": null,
      "outputs": []
    },
    {
      "cell_type": "code",
      "metadata": {
        "colab": {
          "base_uri": "https://localhost:8080/"
        },
        "id": "DQfksOFxTdPH",
        "outputId": "f3c90cf2-dd3a-4b6a-af5d-a8cda790e42a"
      },
      "source": [
        " \n",
        " history = model.fit_generator(train_generator,\n",
        "                              steps_per_epoch=100,\n",
        "                              epochs=25,\n",
        "                              validation_data=validation_generator,\n",
        "                              validation_steps=50)"
      ],
      "execution_count": null,
      "outputs": [
        {
          "output_type": "stream",
          "text": [
            "/usr/local/lib/python3.7/dist-packages/tensorflow/python/keras/engine/training.py:1844: UserWarning: `Model.fit_generator` is deprecated and will be removed in a future version. Please use `Model.fit`, which supports generators.\n",
            "  warnings.warn('`Model.fit_generator` is deprecated and '\n"
          ],
          "name": "stderr"
        },
        {
          "output_type": "stream",
          "text": [
            "Epoch 1/25\n",
            "100/100 [==============================] - 167s 2s/step - loss: 1.5201 - acc: 0.5087 - val_loss: 0.7767 - val_acc: 0.5280\n",
            "Epoch 2/25\n",
            "100/100 [==============================] - 169s 2s/step - loss: 0.7021 - acc: 0.5161 - val_loss: 1.0317 - val_acc: 0.5080\n",
            "Epoch 3/25\n",
            "100/100 [==============================] - 171s 2s/step - loss: 0.6829 - acc: 0.6010 - val_loss: 0.6492 - val_acc: 0.6170\n",
            "Epoch 4/25\n",
            "100/100 [==============================] - 166s 2s/step - loss: 0.6388 - acc: 0.6200 - val_loss: 0.6077 - val_acc: 0.6690\n",
            "Epoch 5/25\n",
            "100/100 [==============================] - 167s 2s/step - loss: 0.6338 - acc: 0.6553 - val_loss: 0.6650 - val_acc: 0.5910\n",
            "Epoch 6/25\n",
            "100/100 [==============================] - 171s 2s/step - loss: 0.6261 - acc: 0.6506 - val_loss: 0.6345 - val_acc: 0.6710\n",
            "Epoch 7/25\n",
            "100/100 [==============================] - 166s 2s/step - loss: 0.6064 - acc: 0.6869 - val_loss: 0.5941 - val_acc: 0.6710\n",
            "Epoch 8/25\n",
            "100/100 [==============================] - 168s 2s/step - loss: 0.6250 - acc: 0.6803 - val_loss: 0.5910 - val_acc: 0.6900\n",
            "Epoch 9/25\n",
            "100/100 [==============================] - 166s 2s/step - loss: 0.6056 - acc: 0.6888 - val_loss: 0.5713 - val_acc: 0.6970\n",
            "Epoch 10/25\n",
            "100/100 [==============================] - 165s 2s/step - loss: 0.6107 - acc: 0.6786 - val_loss: 0.5673 - val_acc: 0.7040\n",
            "Epoch 11/25\n",
            "100/100 [==============================] - 166s 2s/step - loss: 0.6123 - acc: 0.6662 - val_loss: 0.5498 - val_acc: 0.7080\n",
            "Epoch 12/25\n",
            "100/100 [==============================] - 165s 2s/step - loss: 0.6068 - acc: 0.6751 - val_loss: 0.5619 - val_acc: 0.7200\n",
            "Epoch 13/25\n",
            "100/100 [==============================] - 166s 2s/step - loss: 0.5930 - acc: 0.6824 - val_loss: 0.5479 - val_acc: 0.7140\n",
            "Epoch 14/25\n",
            "100/100 [==============================] - 166s 2s/step - loss: 0.5634 - acc: 0.7137 - val_loss: 0.5397 - val_acc: 0.7420\n",
            "Epoch 15/25\n",
            "100/100 [==============================] - 167s 2s/step - loss: 0.5849 - acc: 0.7137 - val_loss: 0.5279 - val_acc: 0.7440\n",
            "Epoch 16/25\n",
            "100/100 [==============================] - 168s 2s/step - loss: 0.5656 - acc: 0.7127 - val_loss: 0.7255 - val_acc: 0.6830\n",
            "Epoch 17/25\n",
            "100/100 [==============================] - 165s 2s/step - loss: 0.6036 - acc: 0.6735 - val_loss: 0.5583 - val_acc: 0.7260\n",
            "Epoch 18/25\n",
            "100/100 [==============================] - 165s 2s/step - loss: 0.5995 - acc: 0.6907 - val_loss: 0.5095 - val_acc: 0.7440\n",
            "Epoch 19/25\n",
            "100/100 [==============================] - 166s 2s/step - loss: 0.5829 - acc: 0.7011 - val_loss: 0.5686 - val_acc: 0.7030\n",
            "Epoch 20/25\n",
            "100/100 [==============================] - 174s 2s/step - loss: 0.5516 - acc: 0.7065 - val_loss: 0.5325 - val_acc: 0.7440\n",
            "Epoch 21/25\n",
            "100/100 [==============================] - 175s 2s/step - loss: 0.5533 - acc: 0.7344 - val_loss: 0.5283 - val_acc: 0.7340\n",
            "Epoch 22/25\n",
            "100/100 [==============================] - 172s 2s/step - loss: 0.5249 - acc: 0.7546 - val_loss: 0.5115 - val_acc: 0.7530\n",
            "Epoch 23/25\n",
            "100/100 [==============================] - 172s 2s/step - loss: 0.5670 - acc: 0.7190 - val_loss: 0.5436 - val_acc: 0.7320\n",
            "Epoch 24/25\n",
            "100/100 [==============================] - 175s 2s/step - loss: 0.5505 - acc: 0.7363 - val_loss: 0.4751 - val_acc: 0.7780\n",
            "Epoch 25/25\n",
            "100/100 [==============================] - 167s 2s/step - loss: 0.5093 - acc: 0.7475 - val_loss: 0.4896 - val_acc: 0.7570\n"
          ],
          "name": "stdout"
        }
      ]
    },
    {
      "cell_type": "code",
      "metadata": {
        "id": "G1OvHKGEUV6t"
      },
      "source": [
        "history"
      ],
      "execution_count": null,
      "outputs": []
    }
  ]
}